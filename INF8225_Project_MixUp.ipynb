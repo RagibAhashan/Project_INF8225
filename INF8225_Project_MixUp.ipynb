{
  "cells": [
    {
      "cell_type": "markdown",
      "metadata": {
        "id": "vLbVbH4lu4J0"
      },
      "source": [
        "## Imports"
      ]
    },
    {
      "cell_type": "code",
      "execution_count": 2,
      "metadata": {
        "colab": {
          "base_uri": "https://localhost:8080/"
        },
        "id": "cJQfREvFUdoz",
        "outputId": "1063187b-991c-47c6-a725-f0d562225d89"
      },
      "outputs": [
        {
          "name": "stdout",
          "output_type": "stream",
          "text": [
            "2023-05-02 03:28:46.786994: I tensorflow/core/platform/cpu_feature_guard.cc:182] This TensorFlow binary is optimized to use available CPU instructions in performance-critical operations.\n",
            "To enable the following instructions: AVX2 FMA, in other operations, rebuild TensorFlow with the appropriate compiler flags.\n",
            "2023-05-02 03:28:48.262529: W tensorflow/compiler/tf2tensorrt/utils/py_utils.cc:38] TF-TRT Warning: Could not find TensorRT\n",
            "2023-05-02 03:28:50.595198: I tensorflow/compiler/xla/stream_executor/cuda/cuda_gpu_executor.cc:996] successful NUMA node read from SysFS had negative value (-1), but there must be at least one NUMA node, so returning NUMA node zero. See more at https://github.com/torvalds/linux/blob/v6.0/Documentation/ABI/testing/sysfs-bus-pci#L344-L355\n",
            "2023-05-02 03:28:50.595786: I tensorflow/compiler/xla/stream_executor/cuda/cuda_gpu_executor.cc:996] successful NUMA node read from SysFS had negative value (-1), but there must be at least one NUMA node, so returning NUMA node zero. See more at https://github.com/torvalds/linux/blob/v6.0/Documentation/ABI/testing/sysfs-bus-pci#L344-L355\n",
            "2023-05-02 03:28:50.596086: I tensorflow/compiler/xla/stream_executor/cuda/cuda_gpu_executor.cc:996] successful NUMA node read from SysFS had negative value (-1), but there must be at least one NUMA node, so returning NUMA node zero. See more at https://github.com/torvalds/linux/blob/v6.0/Documentation/ABI/testing/sysfs-bus-pci#L344-L355\n",
            "\u001b[38;5;3m⚠ As of spaCy v3.0, shortcuts like 'en' are deprecated. Please use the\n",
            "full pipeline package name 'en_core_web_sm' instead.\u001b[0m\n",
            "Looking in indexes: https://pypi.org/simple, https://us-python.pkg.dev/colab-wheels/public/simple/\n",
            "Collecting en-core-web-sm==3.5.0\n",
            "  Downloading https://github.com/explosion/spacy-models/releases/download/en_core_web_sm-3.5.0/en_core_web_sm-3.5.0-py3-none-any.whl (12.8 MB)\n",
            "\u001b[2K     \u001b[90m━━━━━━━━━━━━━━━━━━━━━━━━━━━━━━━━━━━━━━━━\u001b[0m \u001b[32m12.8/12.8 MB\u001b[0m \u001b[31m81.5 MB/s\u001b[0m eta \u001b[36m0:00:00\u001b[0m\n",
            "\u001b[?25hRequirement already satisfied: spacy<3.6.0,>=3.5.0 in /usr/local/lib/python3.10/dist-packages (from en-core-web-sm==3.5.0) (3.5.2)\n",
            "Requirement already satisfied: spacy-legacy<3.1.0,>=3.0.11 in /usr/local/lib/python3.10/dist-packages (from spacy<3.6.0,>=3.5.0->en-core-web-sm==3.5.0) (3.0.12)\n",
            "Requirement already satisfied: spacy-loggers<2.0.0,>=1.0.0 in /usr/local/lib/python3.10/dist-packages (from spacy<3.6.0,>=3.5.0->en-core-web-sm==3.5.0) (1.0.4)\n",
            "Requirement already satisfied: murmurhash<1.1.0,>=0.28.0 in /usr/local/lib/python3.10/dist-packages (from spacy<3.6.0,>=3.5.0->en-core-web-sm==3.5.0) (1.0.9)\n",
            "Requirement already satisfied: cymem<2.1.0,>=2.0.2 in /usr/local/lib/python3.10/dist-packages (from spacy<3.6.0,>=3.5.0->en-core-web-sm==3.5.0) (2.0.7)\n",
            "Requirement already satisfied: preshed<3.1.0,>=3.0.2 in /usr/local/lib/python3.10/dist-packages (from spacy<3.6.0,>=3.5.0->en-core-web-sm==3.5.0) (3.0.8)\n",
            "Requirement already satisfied: thinc<8.2.0,>=8.1.8 in /usr/local/lib/python3.10/dist-packages (from spacy<3.6.0,>=3.5.0->en-core-web-sm==3.5.0) (8.1.9)\n",
            "Requirement already satisfied: wasabi<1.2.0,>=0.9.1 in /usr/local/lib/python3.10/dist-packages (from spacy<3.6.0,>=3.5.0->en-core-web-sm==3.5.0) (1.1.1)\n",
            "Requirement already satisfied: srsly<3.0.0,>=2.4.3 in /usr/local/lib/python3.10/dist-packages (from spacy<3.6.0,>=3.5.0->en-core-web-sm==3.5.0) (2.4.6)\n",
            "Requirement already satisfied: catalogue<2.1.0,>=2.0.6 in /usr/local/lib/python3.10/dist-packages (from spacy<3.6.0,>=3.5.0->en-core-web-sm==3.5.0) (2.0.8)\n",
            "Requirement already satisfied: typer<0.8.0,>=0.3.0 in /usr/local/lib/python3.10/dist-packages (from spacy<3.6.0,>=3.5.0->en-core-web-sm==3.5.0) (0.7.0)\n",
            "Requirement already satisfied: pathy>=0.10.0 in /usr/local/lib/python3.10/dist-packages (from spacy<3.6.0,>=3.5.0->en-core-web-sm==3.5.0) (0.10.1)\n",
            "Requirement already satisfied: smart-open<7.0.0,>=5.2.1 in /usr/local/lib/python3.10/dist-packages (from spacy<3.6.0,>=3.5.0->en-core-web-sm==3.5.0) (6.3.0)\n",
            "Requirement already satisfied: tqdm<5.0.0,>=4.38.0 in /usr/local/lib/python3.10/dist-packages (from spacy<3.6.0,>=3.5.0->en-core-web-sm==3.5.0) (4.65.0)\n",
            "Requirement already satisfied: numpy>=1.15.0 in /usr/local/lib/python3.10/dist-packages (from spacy<3.6.0,>=3.5.0->en-core-web-sm==3.5.0) (1.22.4)\n",
            "Requirement already satisfied: requests<3.0.0,>=2.13.0 in /usr/local/lib/python3.10/dist-packages (from spacy<3.6.0,>=3.5.0->en-core-web-sm==3.5.0) (2.27.1)\n",
            "Requirement already satisfied: pydantic!=1.8,!=1.8.1,<1.11.0,>=1.7.4 in /usr/local/lib/python3.10/dist-packages (from spacy<3.6.0,>=3.5.0->en-core-web-sm==3.5.0) (1.10.7)\n",
            "Requirement already satisfied: jinja2 in /usr/local/lib/python3.10/dist-packages (from spacy<3.6.0,>=3.5.0->en-core-web-sm==3.5.0) (3.1.2)\n",
            "Requirement already satisfied: setuptools in /usr/local/lib/python3.10/dist-packages (from spacy<3.6.0,>=3.5.0->en-core-web-sm==3.5.0) (67.7.2)\n",
            "Requirement already satisfied: packaging>=20.0 in /usr/local/lib/python3.10/dist-packages (from spacy<3.6.0,>=3.5.0->en-core-web-sm==3.5.0) (23.1)\n",
            "Requirement already satisfied: langcodes<4.0.0,>=3.2.0 in /usr/local/lib/python3.10/dist-packages (from spacy<3.6.0,>=3.5.0->en-core-web-sm==3.5.0) (3.3.0)\n",
            "Requirement already satisfied: typing-extensions>=4.2.0 in /usr/local/lib/python3.10/dist-packages (from pydantic!=1.8,!=1.8.1,<1.11.0,>=1.7.4->spacy<3.6.0,>=3.5.0->en-core-web-sm==3.5.0) (4.5.0)\n",
            "Requirement already satisfied: urllib3<1.27,>=1.21.1 in /usr/local/lib/python3.10/dist-packages (from requests<3.0.0,>=2.13.0->spacy<3.6.0,>=3.5.0->en-core-web-sm==3.5.0) (1.26.15)\n",
            "Requirement already satisfied: certifi>=2017.4.17 in /usr/local/lib/python3.10/dist-packages (from requests<3.0.0,>=2.13.0->spacy<3.6.0,>=3.5.0->en-core-web-sm==3.5.0) (2022.12.7)\n",
            "Requirement already satisfied: charset-normalizer~=2.0.0 in /usr/local/lib/python3.10/dist-packages (from requests<3.0.0,>=2.13.0->spacy<3.6.0,>=3.5.0->en-core-web-sm==3.5.0) (2.0.12)\n",
            "Requirement already satisfied: idna<4,>=2.5 in /usr/local/lib/python3.10/dist-packages (from requests<3.0.0,>=2.13.0->spacy<3.6.0,>=3.5.0->en-core-web-sm==3.5.0) (3.4)\n",
            "Requirement already satisfied: blis<0.8.0,>=0.7.8 in /usr/local/lib/python3.10/dist-packages (from thinc<8.2.0,>=8.1.8->spacy<3.6.0,>=3.5.0->en-core-web-sm==3.5.0) (0.7.9)\n",
            "Requirement already satisfied: confection<1.0.0,>=0.0.1 in /usr/local/lib/python3.10/dist-packages (from thinc<8.2.0,>=8.1.8->spacy<3.6.0,>=3.5.0->en-core-web-sm==3.5.0) (0.0.4)\n",
            "Requirement already satisfied: click<9.0.0,>=7.1.1 in /usr/local/lib/python3.10/dist-packages (from typer<0.8.0,>=0.3.0->spacy<3.6.0,>=3.5.0->en-core-web-sm==3.5.0) (8.1.3)\n",
            "Requirement already satisfied: MarkupSafe>=2.0 in /usr/local/lib/python3.10/dist-packages (from jinja2->spacy<3.6.0,>=3.5.0->en-core-web-sm==3.5.0) (2.1.2)\n",
            "\u001b[38;5;2m✔ Download and installation successful\u001b[0m\n",
            "You can now load the package via spacy.load('en_core_web_sm')\n",
            "2023-05-02 03:29:07.167343: I tensorflow/core/platform/cpu_feature_guard.cc:182] This TensorFlow binary is optimized to use available CPU instructions in performance-critical operations.\n",
            "To enable the following instructions: AVX2 FMA, in other operations, rebuild TensorFlow with the appropriate compiler flags.\n",
            "2023-05-02 03:29:08.158471: W tensorflow/compiler/tf2tensorrt/utils/py_utils.cc:38] TF-TRT Warning: Could not find TensorRT\n",
            "2023-05-02 03:29:09.988310: I tensorflow/compiler/xla/stream_executor/cuda/cuda_gpu_executor.cc:996] successful NUMA node read from SysFS had negative value (-1), but there must be at least one NUMA node, so returning NUMA node zero. See more at https://github.com/torvalds/linux/blob/v6.0/Documentation/ABI/testing/sysfs-bus-pci#L344-L355\n",
            "2023-05-02 03:29:09.988949: I tensorflow/compiler/xla/stream_executor/cuda/cuda_gpu_executor.cc:996] successful NUMA node read from SysFS had negative value (-1), but there must be at least one NUMA node, so returning NUMA node zero. See more at https://github.com/torvalds/linux/blob/v6.0/Documentation/ABI/testing/sysfs-bus-pci#L344-L355\n",
            "2023-05-02 03:29:09.989197: I tensorflow/compiler/xla/stream_executor/cuda/cuda_gpu_executor.cc:996] successful NUMA node read from SysFS had negative value (-1), but there must be at least one NUMA node, so returning NUMA node zero. See more at https://github.com/torvalds/linux/blob/v6.0/Documentation/ABI/testing/sysfs-bus-pci#L344-L355\n",
            "\u001b[38;5;3m⚠ As of spaCy v3.0, shortcuts like 'fr' are deprecated. Please use the\n",
            "full pipeline package name 'fr_core_news_sm' instead.\u001b[0m\n",
            "Looking in indexes: https://pypi.org/simple, https://us-python.pkg.dev/colab-wheels/public/simple/\n",
            "Collecting fr-core-news-sm==3.5.0\n",
            "  Downloading https://github.com/explosion/spacy-models/releases/download/fr_core_news_sm-3.5.0/fr_core_news_sm-3.5.0-py3-none-any.whl (16.3 MB)\n",
            "\u001b[2K     \u001b[90m━━━━━━━━━━━━━━━━━━━━━━━━━━━━━━━━━━━━━━━━\u001b[0m \u001b[32m16.3/16.3 MB\u001b[0m \u001b[31m16.1 MB/s\u001b[0m eta \u001b[36m0:00:00\u001b[0m\n",
            "\u001b[?25hRequirement already satisfied: spacy<3.6.0,>=3.5.0 in /usr/local/lib/python3.10/dist-packages (from fr-core-news-sm==3.5.0) (3.5.2)\n",
            "Requirement already satisfied: spacy-legacy<3.1.0,>=3.0.11 in /usr/local/lib/python3.10/dist-packages (from spacy<3.6.0,>=3.5.0->fr-core-news-sm==3.5.0) (3.0.12)\n",
            "Requirement already satisfied: spacy-loggers<2.0.0,>=1.0.0 in /usr/local/lib/python3.10/dist-packages (from spacy<3.6.0,>=3.5.0->fr-core-news-sm==3.5.0) (1.0.4)\n",
            "Requirement already satisfied: murmurhash<1.1.0,>=0.28.0 in /usr/local/lib/python3.10/dist-packages (from spacy<3.6.0,>=3.5.0->fr-core-news-sm==3.5.0) (1.0.9)\n",
            "Requirement already satisfied: cymem<2.1.0,>=2.0.2 in /usr/local/lib/python3.10/dist-packages (from spacy<3.6.0,>=3.5.0->fr-core-news-sm==3.5.0) (2.0.7)\n",
            "Requirement already satisfied: preshed<3.1.0,>=3.0.2 in /usr/local/lib/python3.10/dist-packages (from spacy<3.6.0,>=3.5.0->fr-core-news-sm==3.5.0) (3.0.8)\n",
            "Requirement already satisfied: thinc<8.2.0,>=8.1.8 in /usr/local/lib/python3.10/dist-packages (from spacy<3.6.0,>=3.5.0->fr-core-news-sm==3.5.0) (8.1.9)\n",
            "Requirement already satisfied: wasabi<1.2.0,>=0.9.1 in /usr/local/lib/python3.10/dist-packages (from spacy<3.6.0,>=3.5.0->fr-core-news-sm==3.5.0) (1.1.1)\n",
            "Requirement already satisfied: srsly<3.0.0,>=2.4.3 in /usr/local/lib/python3.10/dist-packages (from spacy<3.6.0,>=3.5.0->fr-core-news-sm==3.5.0) (2.4.6)\n",
            "Requirement already satisfied: catalogue<2.1.0,>=2.0.6 in /usr/local/lib/python3.10/dist-packages (from spacy<3.6.0,>=3.5.0->fr-core-news-sm==3.5.0) (2.0.8)\n",
            "Requirement already satisfied: typer<0.8.0,>=0.3.0 in /usr/local/lib/python3.10/dist-packages (from spacy<3.6.0,>=3.5.0->fr-core-news-sm==3.5.0) (0.7.0)\n",
            "Requirement already satisfied: pathy>=0.10.0 in /usr/local/lib/python3.10/dist-packages (from spacy<3.6.0,>=3.5.0->fr-core-news-sm==3.5.0) (0.10.1)\n",
            "Requirement already satisfied: smart-open<7.0.0,>=5.2.1 in /usr/local/lib/python3.10/dist-packages (from spacy<3.6.0,>=3.5.0->fr-core-news-sm==3.5.0) (6.3.0)\n",
            "Requirement already satisfied: tqdm<5.0.0,>=4.38.0 in /usr/local/lib/python3.10/dist-packages (from spacy<3.6.0,>=3.5.0->fr-core-news-sm==3.5.0) (4.65.0)\n",
            "Requirement already satisfied: numpy>=1.15.0 in /usr/local/lib/python3.10/dist-packages (from spacy<3.6.0,>=3.5.0->fr-core-news-sm==3.5.0) (1.22.4)\n",
            "Requirement already satisfied: requests<3.0.0,>=2.13.0 in /usr/local/lib/python3.10/dist-packages (from spacy<3.6.0,>=3.5.0->fr-core-news-sm==3.5.0) (2.27.1)\n",
            "Requirement already satisfied: pydantic!=1.8,!=1.8.1,<1.11.0,>=1.7.4 in /usr/local/lib/python3.10/dist-packages (from spacy<3.6.0,>=3.5.0->fr-core-news-sm==3.5.0) (1.10.7)\n",
            "Requirement already satisfied: jinja2 in /usr/local/lib/python3.10/dist-packages (from spacy<3.6.0,>=3.5.0->fr-core-news-sm==3.5.0) (3.1.2)\n",
            "Requirement already satisfied: setuptools in /usr/local/lib/python3.10/dist-packages (from spacy<3.6.0,>=3.5.0->fr-core-news-sm==3.5.0) (67.7.2)\n",
            "Requirement already satisfied: packaging>=20.0 in /usr/local/lib/python3.10/dist-packages (from spacy<3.6.0,>=3.5.0->fr-core-news-sm==3.5.0) (23.1)\n",
            "Requirement already satisfied: langcodes<4.0.0,>=3.2.0 in /usr/local/lib/python3.10/dist-packages (from spacy<3.6.0,>=3.5.0->fr-core-news-sm==3.5.0) (3.3.0)\n",
            "Requirement already satisfied: typing-extensions>=4.2.0 in /usr/local/lib/python3.10/dist-packages (from pydantic!=1.8,!=1.8.1,<1.11.0,>=1.7.4->spacy<3.6.0,>=3.5.0->fr-core-news-sm==3.5.0) (4.5.0)\n",
            "Requirement already satisfied: urllib3<1.27,>=1.21.1 in /usr/local/lib/python3.10/dist-packages (from requests<3.0.0,>=2.13.0->spacy<3.6.0,>=3.5.0->fr-core-news-sm==3.5.0) (1.26.15)\n",
            "Requirement already satisfied: certifi>=2017.4.17 in /usr/local/lib/python3.10/dist-packages (from requests<3.0.0,>=2.13.0->spacy<3.6.0,>=3.5.0->fr-core-news-sm==3.5.0) (2022.12.7)\n",
            "Requirement already satisfied: charset-normalizer~=2.0.0 in /usr/local/lib/python3.10/dist-packages (from requests<3.0.0,>=2.13.0->spacy<3.6.0,>=3.5.0->fr-core-news-sm==3.5.0) (2.0.12)\n",
            "Requirement already satisfied: idna<4,>=2.5 in /usr/local/lib/python3.10/dist-packages (from requests<3.0.0,>=2.13.0->spacy<3.6.0,>=3.5.0->fr-core-news-sm==3.5.0) (3.4)\n",
            "Requirement already satisfied: blis<0.8.0,>=0.7.8 in /usr/local/lib/python3.10/dist-packages (from thinc<8.2.0,>=8.1.8->spacy<3.6.0,>=3.5.0->fr-core-news-sm==3.5.0) (0.7.9)\n",
            "Requirement already satisfied: confection<1.0.0,>=0.0.1 in /usr/local/lib/python3.10/dist-packages (from thinc<8.2.0,>=8.1.8->spacy<3.6.0,>=3.5.0->fr-core-news-sm==3.5.0) (0.0.4)\n",
            "Requirement already satisfied: click<9.0.0,>=7.1.1 in /usr/local/lib/python3.10/dist-packages (from typer<0.8.0,>=0.3.0->spacy<3.6.0,>=3.5.0->fr-core-news-sm==3.5.0) (8.1.3)\n",
            "Requirement already satisfied: MarkupSafe>=2.0 in /usr/local/lib/python3.10/dist-packages (from jinja2->spacy<3.6.0,>=3.5.0->fr-core-news-sm==3.5.0) (2.1.2)\n",
            "\u001b[38;5;2m✔ Download and installation successful\u001b[0m\n",
            "You can now load the package via spacy.load('fr_core_news_sm')\n",
            "Looking in indexes: https://pypi.org/simple, https://us-python.pkg.dev/colab-wheels/public/simple/\n",
            "Requirement already satisfied: torchinfo in /usr/local/lib/python3.10/dist-packages (1.7.2)\n",
            "Looking in indexes: https://pypi.org/simple, https://us-python.pkg.dev/colab-wheels/public/simple/\n",
            "Requirement already satisfied: einops in /usr/local/lib/python3.10/dist-packages (0.6.1)\n",
            "Looking in indexes: https://pypi.org/simple, https://us-python.pkg.dev/colab-wheels/public/simple/\n",
            "Requirement already satisfied: wandb in /usr/local/lib/python3.10/dist-packages (0.15.0)\n",
            "Requirement already satisfied: Click!=8.0.0,>=7.0 in /usr/local/lib/python3.10/dist-packages (from wandb) (8.1.3)\n",
            "Requirement already satisfied: GitPython!=3.1.29,>=1.0.0 in /usr/local/lib/python3.10/dist-packages (from wandb) (3.1.31)\n",
            "Requirement already satisfied: requests<3,>=2.0.0 in /usr/local/lib/python3.10/dist-packages (from wandb) (2.27.1)\n",
            "Requirement already satisfied: psutil>=5.0.0 in /usr/local/lib/python3.10/dist-packages (from wandb) (5.9.5)\n",
            "Requirement already satisfied: sentry-sdk>=1.0.0 in /usr/local/lib/python3.10/dist-packages (from wandb) (1.21.1)\n",
            "Requirement already satisfied: docker-pycreds>=0.4.0 in /usr/local/lib/python3.10/dist-packages (from wandb) (0.4.0)\n",
            "Requirement already satisfied: PyYAML in /usr/local/lib/python3.10/dist-packages (from wandb) (6.0)\n",
            "Requirement already satisfied: pathtools in /usr/local/lib/python3.10/dist-packages (from wandb) (0.1.2)\n",
            "Requirement already satisfied: setproctitle in /usr/local/lib/python3.10/dist-packages (from wandb) (1.3.2)\n",
            "Requirement already satisfied: setuptools in /usr/local/lib/python3.10/dist-packages (from wandb) (67.7.2)\n",
            "Requirement already satisfied: appdirs>=1.4.3 in /usr/local/lib/python3.10/dist-packages (from wandb) (1.4.4)\n",
            "Requirement already satisfied: protobuf!=4.21.0,<5,>=3.19.0 in /usr/local/lib/python3.10/dist-packages (from wandb) (3.20.3)\n",
            "Requirement already satisfied: six>=1.4.0 in /usr/local/lib/python3.10/dist-packages (from docker-pycreds>=0.4.0->wandb) (1.16.0)\n",
            "Requirement already satisfied: gitdb<5,>=4.0.1 in /usr/local/lib/python3.10/dist-packages (from GitPython!=3.1.29,>=1.0.0->wandb) (4.0.10)\n",
            "Requirement already satisfied: urllib3<1.27,>=1.21.1 in /usr/local/lib/python3.10/dist-packages (from requests<3,>=2.0.0->wandb) (1.26.15)\n",
            "Requirement already satisfied: certifi>=2017.4.17 in /usr/local/lib/python3.10/dist-packages (from requests<3,>=2.0.0->wandb) (2022.12.7)\n",
            "Requirement already satisfied: charset-normalizer~=2.0.0 in /usr/local/lib/python3.10/dist-packages (from requests<3,>=2.0.0->wandb) (2.0.12)\n",
            "Requirement already satisfied: idna<4,>=2.5 in /usr/local/lib/python3.10/dist-packages (from requests<3,>=2.0.0->wandb) (3.4)\n",
            "Requirement already satisfied: smmap<6,>=3.0.1 in /usr/local/lib/python3.10/dist-packages (from gitdb<5,>=4.0.1->GitPython!=3.1.29,>=1.0.0->wandb) (5.0.0)\n"
          ]
        }
      ],
      "source": [
        "!python3 -m spacy download en\n",
        "!python3 -m spacy download fr\n",
        "!pip install torchinfo\n",
        "!pip install einops\n",
        "!pip install wandb\n",
        "\n",
        "import math\n",
        "import time\n",
        "import os\n",
        "import copy\n",
        "import re\n",
        "import torch\n",
        "import torch.nn as nn\n",
        "import torch.optim as optim\n",
        "from torch import Tensor\n",
        "from torch.nn import functional as F\n",
        "from torch.optim.lr_scheduler import CosineAnnealingLR\n",
        "import torch.utils.checkpoint as cp\n",
        "from torch.utils.data import DataLoader\n",
        "from torch.jit.annotations import List\n",
        "import torchvision\n",
        "from torchvision import datasets, models, transforms\n",
        "from torchvision.transforms import ToTensor, Normalize\n",
        "from torchvision.transforms import Resize\n",
        "from torchvision.transforms.functional_pil import resize\n",
        "from torchvision.transforms import Grayscale\n",
        "from torchvision.models.resnet import ResNet, BasicBlock\n",
        "\n",
        "\n",
        "import numpy as np\n",
        "from collections import OrderedDict\n",
        "from tqdm import tqdm\n",
        "from torchinfo import summary\n",
        "import wandb\n",
        "from PIL import Image, ImageOps, ImageEnhance"
      ]
    },
    {
      "cell_type": "markdown",
      "metadata": {
        "id": "Ngzxxbb2jmZ3"
      },
      "source": [
        "**Drive**"
      ]
    },
    {
      "cell_type": "code",
      "execution_count": null,
      "metadata": {
        "colab": {
          "base_uri": "https://localhost:8080/"
        },
        "id": "0VSAHyOWlTrS",
        "outputId": "92416b86-2d3a-4d9f-bf69-93e3ed75667a"
      },
      "outputs": [
        {
          "name": "stdout",
          "output_type": "stream",
          "text": [
            "\u001b[34m\u001b[1mwandb\u001b[0m: Logging into wandb.ai. (Learn how to deploy a W&B server locally: https://wandb.me/wandb-server)\n",
            "\u001b[34m\u001b[1mwandb\u001b[0m: You can find your API key in your browser here: https://wandb.ai/authorize\n",
            "\u001b[34m\u001b[1mwandb\u001b[0m: Paste an API key from your profile and hit enter, or press ctrl+c to quit: \n",
            "\u001b[34m\u001b[1mwandb\u001b[0m: Appending key for api.wandb.ai to your netrc file: /root/.netrc\n"
          ]
        }
      ],
      "source": [
        "!wandb login"
      ]
    },
    {
      "cell_type": "code",
      "execution_count": null,
      "metadata": {
        "id": "xxPlZGKKlYze"
      },
      "outputs": [],
      "source": [
        "torch.manual_seed(5)\n",
        "torch.cuda.manual_seed_all(5)\n",
        "torch.backends.cudnn.benchmark = False\n",
        "torch.backends.cudnn.deterministic = True"
      ]
    },
    {
      "cell_type": "markdown",
      "metadata": {
        "id": "rQav_hw0A6az"
      },
      "source": [
        "# **Downloading and Preprocessing Data**"
      ]
    },
    {
      "cell_type": "code",
      "execution_count": 3,
      "metadata": {
        "colab": {
          "base_uri": "https://localhost:8080/"
        },
        "id": "WmlWevq6A5qI",
        "outputId": "51d68fca-9182-42b3-9d56-d761984f8f09"
      },
      "outputs": [
        {
          "name": "stdout",
          "output_type": "stream",
          "text": [
            "Downloading http://yann.lecun.com/exdb/mnist/train-images-idx3-ubyte.gz\n",
            "Downloading http://yann.lecun.com/exdb/mnist/train-images-idx3-ubyte.gz to ./data/MNIST/MNIST/raw/train-images-idx3-ubyte.gz\n"
          ]
        },
        {
          "name": "stderr",
          "output_type": "stream",
          "text": [
            "100%|██████████| 9912422/9912422 [00:00<00:00, 257931442.25it/s]"
          ]
        },
        {
          "name": "stdout",
          "output_type": "stream",
          "text": [
            "Extracting ./data/MNIST/MNIST/raw/train-images-idx3-ubyte.gz to ./data/MNIST/MNIST/raw\n"
          ]
        },
        {
          "name": "stderr",
          "output_type": "stream",
          "text": [
            "\n"
          ]
        },
        {
          "name": "stdout",
          "output_type": "stream",
          "text": [
            "\n",
            "Downloading http://yann.lecun.com/exdb/mnist/train-labels-idx1-ubyte.gz\n",
            "Downloading http://yann.lecun.com/exdb/mnist/train-labels-idx1-ubyte.gz to ./data/MNIST/MNIST/raw/train-labels-idx1-ubyte.gz\n"
          ]
        },
        {
          "name": "stderr",
          "output_type": "stream",
          "text": [
            "100%|██████████| 28881/28881 [00:00<00:00, 88098686.42it/s]\n"
          ]
        },
        {
          "name": "stdout",
          "output_type": "stream",
          "text": [
            "Extracting ./data/MNIST/MNIST/raw/train-labels-idx1-ubyte.gz to ./data/MNIST/MNIST/raw\n",
            "\n",
            "Downloading http://yann.lecun.com/exdb/mnist/t10k-images-idx3-ubyte.gz\n",
            "Downloading http://yann.lecun.com/exdb/mnist/t10k-images-idx3-ubyte.gz to ./data/MNIST/MNIST/raw/t10k-images-idx3-ubyte.gz\n"
          ]
        },
        {
          "name": "stderr",
          "output_type": "stream",
          "text": [
            "100%|██████████| 1648877/1648877 [00:00<00:00, 77912368.58it/s]"
          ]
        },
        {
          "name": "stdout",
          "output_type": "stream",
          "text": [
            "Extracting ./data/MNIST/MNIST/raw/t10k-images-idx3-ubyte.gz to ./data/MNIST/MNIST/raw\n"
          ]
        },
        {
          "name": "stderr",
          "output_type": "stream",
          "text": [
            "\n"
          ]
        },
        {
          "name": "stdout",
          "output_type": "stream",
          "text": [
            "\n",
            "Downloading http://yann.lecun.com/exdb/mnist/t10k-labels-idx1-ubyte.gz\n",
            "Downloading http://yann.lecun.com/exdb/mnist/t10k-labels-idx1-ubyte.gz to ./data/MNIST/MNIST/raw/t10k-labels-idx1-ubyte.gz\n"
          ]
        },
        {
          "name": "stderr",
          "output_type": "stream",
          "text": [
            "100%|██████████| 4542/4542 [00:00<00:00, 18974630.25it/s]\n"
          ]
        },
        {
          "name": "stdout",
          "output_type": "stream",
          "text": [
            "Extracting ./data/MNIST/MNIST/raw/t10k-labels-idx1-ubyte.gz to ./data/MNIST/MNIST/raw\n",
            "\n",
            "Downloading https://www.cs.toronto.edu/~kriz/cifar-10-python.tar.gz to ./data/CIFAR/cifar-10-python.tar.gz\n"
          ]
        },
        {
          "name": "stderr",
          "output_type": "stream",
          "text": [
            "100%|██████████| 170498071/170498071 [00:12<00:00, 13126558.22it/s]\n"
          ]
        },
        {
          "name": "stdout",
          "output_type": "stream",
          "text": [
            "Extracting ./data/CIFAR/cifar-10-python.tar.gz to ./data/CIFAR\n",
            "Files already downloaded and verified\n",
            "Downloading https://www.cs.toronto.edu/~kriz/cifar-100-python.tar.gz to ./data/CIFAR/cifar-100-python.tar.gz\n"
          ]
        },
        {
          "name": "stderr",
          "output_type": "stream",
          "text": [
            "100%|██████████| 169001437/169001437 [00:12<00:00, 13030374.41it/s]\n"
          ]
        },
        {
          "name": "stdout",
          "output_type": "stream",
          "text": [
            "Extracting ./data/CIFAR/cifar-100-python.tar.gz to ./data/CIFAR\n",
            "Files already downloaded and verified\n"
          ]
        }
      ],
      "source": [
        "mnist_trainset = datasets.MNIST(root='./data/MNIST', train=True, download=True)\n",
        "mnist_trainset.transform = transforms.Compose([Grayscale(num_output_channels=3), ToTensor(), Normalize([0.1205],[0.3015]),])\n",
        "mnist_testset = datasets.MNIST(root='./data/MNIST', train=False, download=True)\n",
        "mnist_testset.transform = transforms.Compose([Grayscale(num_output_channels=3), ToTensor(), Normalize([0.1307],[0.3015]),])\n",
        "mnist_trainset = DataLoader(mnist_trainset, batch_size=128, shuffle=True)\n",
        "mnist_testset = DataLoader(mnist_testset, batch_size=128)\n",
        "\n",
        "CIFAR10_trainset = datasets.CIFAR10(root='./data/CIFAR', train=True, download=True)\n",
        "CIFAR10_trainset.transform = transforms.Compose([transforms.RandomHorizontalFlip(), transforms.RandomCrop(32, padding=4),ToTensor(), Normalize([0.4914, 0.4822, 0.4465], [0.2023, 0.1994, 0.2010]),])\n",
        "CIFAR10_testset = datasets.CIFAR10(root='./data/CIFAR', train=False, download=True)\n",
        "CIFAR10_testset.transform = transforms.Compose([ToTensor(), Normalize([0.4914, 0.4822, 0.4465],[0.2023, 0.1994, 0.2010]),])\n",
        "CIFAR10_trainset = DataLoader(CIFAR10_trainset, batch_size=128, shuffle=True)\n",
        "CIFAR10_testset = DataLoader(CIFAR10_testset, batch_size=128)\n",
        "\n",
        "CIFAR100_trainset = datasets.CIFAR100(root='./data/CIFAR', train=True, download=True)\n",
        "CIFAR100_trainset.transform = transforms.Compose([transforms.RandomHorizontalFlip(),transforms.RandomCrop(32, padding=4),ToTensor(),Normalize([0.5017, 0.4866, 0.4409],[0.2009, 0.1984, 0.2023]),])\n",
        "CIFAR100_testset = datasets.CIFAR100(root='./data/CIFAR', train=False, download=True)\n",
        "CIFAR100_testset.transform = transforms.Compose([ToTensor(), Normalize([0.5017, 0.4866, 0.4409],[0.2009, 0.1984, 0.2023]),])\n",
        "CIFAR100_trainset = DataLoader(CIFAR100_trainset, batch_size=128, shuffle=True)\n",
        "CIFAR100_testset = DataLoader(CIFAR100_testset, batch_size=128)"
      ]
    },
    {
      "cell_type": "markdown",
      "metadata": {
        "id": "LEMJDTH5llei"
      },
      "source": [
        "# **Base Network - ResNet-18**"
      ]
    },
    {
      "cell_type": "code",
      "execution_count": null,
      "metadata": {
        "id": "lmSiWV7zljfI"
      },
      "outputs": [],
      "source": [
        "class BasicBlock(nn.Module):\n",
        "    expansion = 1\n",
        "\n",
        "    def __init__(self, in_planes, planes, stride=1):\n",
        "        super(BasicBlock, self).__init__()\n",
        "        self.conv1 = nn.Conv2d(in_planes, planes, kernel_size=3, stride=stride, padding=1, bias=False)\n",
        "        self.bn1 = nn.BatchNorm2d(planes)\n",
        "        self.conv2 = nn.Conv2d(planes, planes, kernel_size=3, stride=1, padding=1, bias=False)\n",
        "        self.bn2 = nn.BatchNorm2d(planes)\n",
        "        self.shortcut = nn.Sequential()\n",
        "\n",
        "        if stride != 1 or in_planes != self.expansion*planes:\n",
        "            conv2d = nn.Conv2d(in_planes, self.expansion*planes,kernel_size=1, stride=stride, bias=False)\n",
        "            bnorm2d = nn.BatchNorm2d(self.expansion*planes)\n",
        "            self.shortcut = nn.Sequential(conv2d, bnorm2d)\n",
        "\n",
        "    def forward(self, x):\n",
        "        output = F.relu(self.bn1(self.conv1(x)))\n",
        "        return F.relu(self.bn2(self.conv2(output)) + self.shortcut(x))\n",
        "\n",
        "\n",
        "class Bottleneck(nn.Module):\n",
        "    expansion = 4\n",
        "\n",
        "    def __init__(self, in_planes, planes, stride=1):\n",
        "        super(Bottleneck, self).__init__()\n",
        "        self.conv1 = nn.Conv2d(in_planes, planes, kernel_size=1, bias=False)\n",
        "        self.bn1 = nn.BatchNorm2d(planes)\n",
        "        self.conv2 = nn.Conv2d(planes, planes, kernel_size=3,stride=stride, padding=1, bias=False)\n",
        "        self.bn2 = nn.BatchNorm2d(planes)\n",
        "        self.conv3 = nn.Conv2d(planes, self.expansion *planes, kernel_size=1, bias=False)\n",
        "        self.bn3 = nn.BatchNorm2d(self.expansion*planes)\n",
        "        self.shortcut = nn.Sequential()\n",
        "\n",
        "        if stride != 1 or in_planes != self.expansion*planes:\n",
        "            conv2d = nn.Conv2d(in_planes, self.expansion*planes,kernel_size=1, stride=stride, bias=False)\n",
        "            bnorm2d = nn.BatchNorm2d(self.expansion*planes)\n",
        "            self.shortcut = nn.Sequential(conv2d,bnorm2d)\n",
        "\n",
        "    def forward(self, x):\n",
        "        output = F.relu(self.bn1(self.conv1(x)))\n",
        "        output = F.relu(self.bn2(self.conv2(output)))\n",
        "        return F.relu(self.bn3(self.conv3(output)) + self.shortcut(x))\n",
        "\n",
        "\n",
        "class ResNet(nn.Module):\n",
        "    def __init__(self, block, num_blocks, num_classes=10):\n",
        "        super(ResNet, self).__init__()\n",
        "        self.in_planes = 64\n",
        "\n",
        "        self.conv1 = nn.Conv2d(3, 64, kernel_size=3,stride=1, padding=1, bias=False)\n",
        "        self.bn1 = nn.BatchNorm2d(64)\n",
        "        self.layer1 = self._make_layer(block, 64, num_blocks[0], stride=1)\n",
        "        self.layer2 = self._make_layer(block, 128, num_blocks[1], stride=2)\n",
        "        self.layer3 = self._make_layer(block, 256, num_blocks[2], stride=2)\n",
        "        self.layer4 = self._make_layer(block, 512, num_blocks[3], stride=2)\n",
        "        self.num_classes = num_classes\n",
        "        self.linear = nn.Linear(512*block.expansion, self.num_classes)\n",
        "\n",
        "    def _make_layer(self, block, planes, num_blocks, stride):\n",
        "        strides = [stride] + [1]*(num_blocks-1)\n",
        "        layers = []\n",
        "        for s in strides:\n",
        "            layers.append(block(self.in_planes, planes, s))\n",
        "            self.in_planes = planes * block.expansion\n",
        "        return nn.Sequential(*layers)\n",
        "\n",
        "    def forward(self, x):\n",
        "        output = F.relu(self.bn1(self.conv1(x)))\n",
        "        output = self.layer1(output)\n",
        "        output = self.layer2(output)\n",
        "        output = self.layer3(output)\n",
        "        output = self.layer4(output)\n",
        "        output = F.avg_pool2d(output, 4)\n",
        "        output = output.view(output.size(0), -1)\n",
        "        return self.linear(output)\n",
        "\n",
        "\n",
        "def ResNet18(num_classes):\n",
        "    return ResNet(BasicBlock, [2, 2, 2, 2], num_classes)\n",
        "     "
      ]
    },
    {
      "cell_type": "markdown",
      "metadata": {
        "id": "0LEQsudT_spZ"
      },
      "source": [
        "# **Model Training**"
      ]
    },
    {
      "cell_type": "code",
      "execution_count": null,
      "metadata": {
        "id": "NmxGAGyU_p4O"
      },
      "outputs": [],
      "source": [
        "config = {\n",
        "    'model_name' : 'resnet',\n",
        "    'dataset_name' : 'CIFAR10',\n",
        "    'batch_size' : 128,\n",
        "    'lr': 1e-1,\n",
        "    'weight_decay': 1e-4,\n",
        "    'image_size' : 32,\n",
        "    'epochs' : 20,\n",
        "    'num_classes' : 10,\n",
        "    'feature_extract' : False,\n",
        "    'log_every': 50,\n",
        "    'mixup_alpha' : 1,\n",
        "    'augmentations': True,\n",
        "    'device': torch.device(\"cuda:0\" if torch.cuda.is_available() else \"cpu\"),\n",
        "    'model_type': 'Baseline'\n",
        "}\n",
        "\n",
        "device = config['device']\n",
        "\n",
        "\n",
        "def train_model(model, trainloader, testloader, criterion, optimizer, scheduler, model_type, datasetname, num_epochs=25):\n",
        "  print('model_type - ', model_type)\n",
        "\n",
        "  start_time = time.time()\n",
        "  val_acc_history = []\n",
        "\n",
        "  best_model_wts = copy.deepcopy(model.state_dict())\n",
        "  best_acc = 0.0\n",
        "\n",
        "  device = config['device']\n",
        "\n",
        "  for epoch in range(num_epochs):\n",
        "\n",
        "    print('Epoch {}/{}'.format(epoch+1, num_epochs), '\\n----------')\n",
        "\n",
        "    for phase in ['train', 'valid']:\n",
        "      if phase == 'train':\n",
        "        model.train()\n",
        "\n",
        "        running_loss = 0.0\n",
        "        running_corrects = 0\n",
        "\n",
        "        for batch_idx,(inputs, labels) in tqdm(enumerate(trainloader)):\n",
        "          optimizer.zero_grad()\n",
        "\n",
        "          if model_type == 'MixUp':\n",
        "            inputs = inputs.to(device)\n",
        "            labels = labels.to(device) \n",
        "            inputs, labels, second_labels, lam = mixup(inputs, labels, config['mixup_alpha'])\n",
        "            outputs = model(inputs)\n",
        "            loss = mixup_criterion(criterion, outputs, labels, second_labels, lam)\n",
        "            _, preds = torch.max(outputs, 1)\n",
        "            \n",
        "          elif model_type == 'CutMix':\n",
        "            inputs = inputs.to(device)\n",
        "            labels = labels.to(device) \n",
        "            inputs, labels, second_labels, lam = cutmix(inputs, labels, config['mixup_alpha'])\n",
        "            outputs = model(inputs)\n",
        "            loss = mixup_criterion(criterion, outputs, labels, second_labels, lam)\n",
        "            _, preds = torch.max(outputs, 1)\n",
        "\n",
        "          else:\n",
        "            inputs = inputs.to(device)\n",
        "            labels = labels.to(device) \n",
        "            outputs = model(inputs)\n",
        "            loss = criterion(outputs, labels)\n",
        "            _, preds = torch.max(outputs, 1)\n",
        "          \n",
        "          loss.backward()\n",
        "          optimizer.step()\n",
        "          \n",
        "\n",
        "          if batch_idx % config['log_every'] == 0: wandb.log({f'Train - loss': loss.item()})\n",
        "\n",
        "          running_loss += loss.item() * inputs.size(0)\n",
        "          running_corrects += torch.sum(preds == labels.data)\n",
        "\n",
        "        epoch_loss = running_loss / len(trainloader.dataset)\n",
        "        epoch_acc = running_corrects.double() / len(trainloader.dataset)\n",
        "        print('{} Loss: {:.4f} Acc: {:.4f}'.format(phase, epoch_loss, epoch_acc))\n",
        "        wandb.log({'Train - acc': epoch_acc})\n",
        "      \n",
        "      \n",
        "      else:\n",
        "        model.eval()\n",
        "        running_loss = 0.0\n",
        "        running_corrects = 0\n",
        "\n",
        "        for inputs, labels in testloader:\n",
        "          inputs = inputs.to(device)\n",
        "          labels = labels.to(device)\n",
        "          optimizer.zero_grad()\n",
        "          with torch.set_grad_enabled(False):\n",
        "            outputs = model(inputs)\n",
        "            loss = criterion(outputs, labels)\n",
        "            _, preds = torch.max(outputs, 1)\n",
        "            running_loss += loss.item() * inputs.size(0)\n",
        "            running_corrects += torch.sum(preds == labels.data)\n",
        "          epoch_loss = running_loss / len(testloader.dataset)\n",
        "          epoch_acc = running_corrects.double() / len(testloader.dataset)\n",
        "        \n",
        "        wandb.log({'Valid - loss': epoch_loss})\n",
        "        wandb.log({'Valid - acc': epoch_acc})\n",
        "        print('{} Loss: {:.4f} Acc: {:.4f}'.format(phase, epoch_loss, epoch_acc))\n",
        "\n",
        "        if epoch_acc > best_acc:\n",
        "          best_acc = epoch_acc\n",
        "          best_model_wts = copy.deepcopy(model.state_dict())\n",
        "\n",
        "\n",
        "        print('------------------------------')\n",
        "        val_acc_history.append(epoch_acc)\n",
        "\n",
        "    if scheduler: scheduler.step()\n",
        "\n",
        "\n",
        "\n",
        "  time_diff = time.time() - start_time\n",
        "  print('Training complete in {:.0f}m {:.0f}s'.format(time_diff // 60, time_diff % 60))\n",
        "  print('Best validation Acc: {:4f}'.format(best_acc))\n",
        "  model.load_state_dict(best_model_wts)\n",
        "  return model, val_acc_history\n",
        "\n",
        "def initialize_model(model_name, dataset_name, feature_extract=False, use_pretrained=False):\n",
        "    input_size = 0\n",
        "\n",
        "    if dataset_name == \"mnist\":\n",
        "      input_size = 28\n",
        "      num_classes = 10\n",
        "    elif dataset_name ==\"cifar10\":\n",
        "      input_size = 32\n",
        "      num_classes = 10\n",
        "    else:\n",
        "      input_size = 32\n",
        "      num_classes = 100\n",
        "    model_ft = ResNet18(num_classes)\n",
        "    return model_ft, input_size"
      ]
    },
    {
      "cell_type": "markdown",
      "metadata": {
        "id": "AcDeUwp-Qs7r"
      },
      "source": [
        "# **Training ResNet-18 on MNIST Dataset**"
      ]
    },
    {
      "cell_type": "code",
      "execution_count": null,
      "metadata": {
        "colab": {
          "base_uri": "https://localhost:8080/",
          "height": 1000
        },
        "id": "50hKFbO9Krze",
        "outputId": "05fff24e-9e90-42eb-b3f8-67f000731882"
      },
      "outputs": [
        {
          "name": "stderr",
          "output_type": "stream",
          "text": [
            "\u001b[34m\u001b[1mwandb\u001b[0m: Currently logged in as: \u001b[33messe-dawut\u001b[0m (\u001b[33mddmaster\u001b[0m). Use \u001b[1m`wandb login --relogin`\u001b[0m to force relogin\n"
          ]
        },
        {
          "data": {
            "text/html": [
              "Tracking run with wandb version 0.15.0"
            ],
            "text/plain": [
              "<IPython.core.display.HTML object>"
            ]
          },
          "metadata": {},
          "output_type": "display_data"
        },
        {
          "data": {
            "text/html": [
              "Run data is saved locally in <code>/content/wandb/run-20230501_041212-7u38qkxn</code>"
            ],
            "text/plain": [
              "<IPython.core.display.HTML object>"
            ]
          },
          "metadata": {},
          "output_type": "display_data"
        },
        {
          "data": {
            "text/html": [
              "Syncing run <strong><a href='https://wandb.ai/ddmaster/INF8225%20-%20Projet%20final/runs/7u38qkxn' target=\"_blank\">honest-darkness-1</a></strong> to <a href='https://wandb.ai/ddmaster/INF8225%20-%20Projet%20final' target=\"_blank\">Weights & Biases</a> (<a href='https://wandb.me/run' target=\"_blank\">docs</a>)<br/>"
            ],
            "text/plain": [
              "<IPython.core.display.HTML object>"
            ]
          },
          "metadata": {},
          "output_type": "display_data"
        },
        {
          "data": {
            "text/html": [
              " View project at <a href='https://wandb.ai/ddmaster/INF8225%20-%20Projet%20final' target=\"_blank\">https://wandb.ai/ddmaster/INF8225%20-%20Projet%20final</a>"
            ],
            "text/plain": [
              "<IPython.core.display.HTML object>"
            ]
          },
          "metadata": {},
          "output_type": "display_data"
        },
        {
          "data": {
            "text/html": [
              " View run at <a href='https://wandb.ai/ddmaster/INF8225%20-%20Projet%20final/runs/7u38qkxn' target=\"_blank\">https://wandb.ai/ddmaster/INF8225%20-%20Projet%20final/runs/7u38qkxn</a>"
            ],
            "text/plain": [
              "<IPython.core.display.HTML object>"
            ]
          },
          "metadata": {},
          "output_type": "display_data"
        },
        {
          "name": "stdout",
          "output_type": "stream",
          "text": [
            "DAmethod -  Baseline\n",
            "Epoch 1/20\n",
            "----------\n"
          ]
        },
        {
          "name": "stderr",
          "output_type": "stream",
          "text": [
            "469it [01:21,  5.78it/s]\n"
          ]
        },
        {
          "name": "stdout",
          "output_type": "stream",
          "text": [
            "train Loss: 0.4012 Acc: 0.8984\n",
            "valid Loss: 0.0837 Acc: 0.9734\n",
            "Saving model...\n",
            "------------------------------\n",
            "\n",
            "Epoch 2/20\n",
            "----------\n"
          ]
        },
        {
          "name": "stderr",
          "output_type": "stream",
          "text": [
            "469it [01:14,  6.31it/s]\n"
          ]
        },
        {
          "name": "stdout",
          "output_type": "stream",
          "text": [
            "train Loss: 0.0534 Acc: 0.9839\n",
            "valid Loss: 0.0920 Acc: 0.9709\n",
            "------------------------------\n",
            "\n",
            "Epoch 3/20\n",
            "----------\n"
          ]
        },
        {
          "name": "stderr",
          "output_type": "stream",
          "text": [
            "469it [01:14,  6.31it/s]\n"
          ]
        },
        {
          "name": "stdout",
          "output_type": "stream",
          "text": [
            "train Loss: 0.0381 Acc: 0.9886\n",
            "valid Loss: 0.0443 Acc: 0.9872\n",
            "Saving model...\n",
            "------------------------------\n",
            "\n",
            "Epoch 4/20\n",
            "----------\n"
          ]
        },
        {
          "name": "stderr",
          "output_type": "stream",
          "text": [
            "469it [01:14,  6.28it/s]\n"
          ]
        },
        {
          "name": "stdout",
          "output_type": "stream",
          "text": [
            "train Loss: 0.0323 Acc: 0.9903\n",
            "valid Loss: 0.0356 Acc: 0.9890\n",
            "Saving model...\n",
            "------------------------------\n",
            "\n",
            "Epoch 5/20\n",
            "----------\n"
          ]
        },
        {
          "name": "stderr",
          "output_type": "stream",
          "text": [
            "469it [01:15,  6.21it/s]\n"
          ]
        },
        {
          "name": "stdout",
          "output_type": "stream",
          "text": [
            "train Loss: 0.0272 Acc: 0.9919\n",
            "valid Loss: 0.0528 Acc: 0.9839\n",
            "------------------------------\n",
            "\n",
            "Epoch 6/20\n",
            "----------\n"
          ]
        },
        {
          "name": "stderr",
          "output_type": "stream",
          "text": [
            "469it [01:14,  6.31it/s]\n"
          ]
        },
        {
          "name": "stdout",
          "output_type": "stream",
          "text": [
            "train Loss: 0.0290 Acc: 0.9910\n",
            "valid Loss: 0.0390 Acc: 0.9874\n",
            "------------------------------\n",
            "\n",
            "Epoch 7/20\n",
            "----------\n"
          ]
        },
        {
          "name": "stderr",
          "output_type": "stream",
          "text": [
            "469it [01:14,  6.28it/s]\n"
          ]
        },
        {
          "name": "stdout",
          "output_type": "stream",
          "text": [
            "train Loss: 0.0247 Acc: 0.9925\n",
            "valid Loss: 0.0466 Acc: 0.9863\n",
            "------------------------------\n",
            "\n",
            "Epoch 8/20\n",
            "----------\n"
          ]
        },
        {
          "name": "stderr",
          "output_type": "stream",
          "text": [
            "469it [01:14,  6.32it/s]\n"
          ]
        },
        {
          "name": "stdout",
          "output_type": "stream",
          "text": [
            "train Loss: 0.0252 Acc: 0.9926\n",
            "valid Loss: 0.0508 Acc: 0.9838\n",
            "------------------------------\n",
            "\n",
            "Epoch 9/20\n",
            "----------\n"
          ]
        },
        {
          "name": "stderr",
          "output_type": "stream",
          "text": [
            "469it [01:14,  6.30it/s]\n"
          ]
        },
        {
          "name": "stdout",
          "output_type": "stream",
          "text": [
            "train Loss: 0.0232 Acc: 0.9935\n",
            "valid Loss: 0.0398 Acc: 0.9884\n",
            "------------------------------\n",
            "\n",
            "Epoch 10/20\n",
            "----------\n"
          ]
        },
        {
          "name": "stderr",
          "output_type": "stream",
          "text": [
            "469it [01:13,  6.35it/s]\n"
          ]
        },
        {
          "name": "stdout",
          "output_type": "stream",
          "text": [
            "train Loss: 0.0250 Acc: 0.9925\n",
            "valid Loss: 0.0521 Acc: 0.9841\n",
            "------------------------------\n",
            "\n",
            "Epoch 11/20\n",
            "----------\n"
          ]
        },
        {
          "name": "stderr",
          "output_type": "stream",
          "text": [
            "469it [01:14,  6.32it/s]\n"
          ]
        },
        {
          "name": "stdout",
          "output_type": "stream",
          "text": [
            "train Loss: 0.0226 Acc: 0.9933\n",
            "valid Loss: 0.0379 Acc: 0.9878\n",
            "------------------------------\n",
            "\n",
            "Epoch 12/20\n",
            "----------\n"
          ]
        },
        {
          "name": "stderr",
          "output_type": "stream",
          "text": [
            "469it [01:14,  6.30it/s]\n"
          ]
        },
        {
          "name": "stdout",
          "output_type": "stream",
          "text": [
            "train Loss: 0.0223 Acc: 0.9934\n",
            "valid Loss: 0.0702 Acc: 0.9791\n",
            "------------------------------\n",
            "\n",
            "Epoch 13/20\n",
            "----------\n"
          ]
        },
        {
          "name": "stderr",
          "output_type": "stream",
          "text": [
            "469it [01:15,  6.20it/s]\n"
          ]
        },
        {
          "name": "stdout",
          "output_type": "stream",
          "text": [
            "train Loss: 0.0223 Acc: 0.9935\n",
            "valid Loss: 0.0306 Acc: 0.9907\n",
            "Saving model...\n",
            "------------------------------\n",
            "\n",
            "Epoch 14/20\n",
            "----------\n"
          ]
        },
        {
          "name": "stderr",
          "output_type": "stream",
          "text": [
            "469it [01:18,  5.99it/s]\n"
          ]
        },
        {
          "name": "stdout",
          "output_type": "stream",
          "text": [
            "train Loss: 0.0207 Acc: 0.9940\n",
            "valid Loss: 0.0336 Acc: 0.9903\n",
            "------------------------------\n",
            "\n",
            "Epoch 15/20\n",
            "----------\n"
          ]
        },
        {
          "name": "stderr",
          "output_type": "stream",
          "text": [
            "469it [01:13,  6.35it/s]\n"
          ]
        },
        {
          "name": "stdout",
          "output_type": "stream",
          "text": [
            "train Loss: 0.0195 Acc: 0.9949\n",
            "valid Loss: 0.0323 Acc: 0.9898\n",
            "------------------------------\n",
            "\n",
            "Epoch 16/20\n",
            "----------\n"
          ]
        },
        {
          "name": "stderr",
          "output_type": "stream",
          "text": [
            "469it [01:15,  6.25it/s]\n"
          ]
        },
        {
          "name": "stdout",
          "output_type": "stream",
          "text": [
            "train Loss: 0.0197 Acc: 0.9946\n",
            "valid Loss: 0.0406 Acc: 0.9888\n",
            "------------------------------\n",
            "\n",
            "Epoch 17/20\n",
            "----------\n"
          ]
        },
        {
          "name": "stderr",
          "output_type": "stream",
          "text": [
            "469it [01:14,  6.31it/s]\n"
          ]
        },
        {
          "name": "stdout",
          "output_type": "stream",
          "text": [
            "train Loss: 0.0205 Acc: 0.9941\n",
            "valid Loss: 0.0260 Acc: 0.9922\n",
            "Saving model...\n",
            "------------------------------\n",
            "\n",
            "Epoch 18/20\n",
            "----------\n"
          ]
        },
        {
          "name": "stderr",
          "output_type": "stream",
          "text": [
            "469it [01:13,  6.35it/s]\n"
          ]
        },
        {
          "name": "stdout",
          "output_type": "stream",
          "text": [
            "train Loss: 0.0184 Acc: 0.9947\n",
            "valid Loss: 0.0318 Acc: 0.9902\n",
            "------------------------------\n",
            "\n",
            "Epoch 19/20\n",
            "----------\n"
          ]
        },
        {
          "name": "stderr",
          "output_type": "stream",
          "text": [
            "469it [01:16,  6.14it/s]\n"
          ]
        },
        {
          "name": "stdout",
          "output_type": "stream",
          "text": [
            "train Loss: 0.0171 Acc: 0.9952\n",
            "valid Loss: 0.0644 Acc: 0.9803\n",
            "------------------------------\n",
            "\n",
            "Epoch 20/20\n",
            "----------\n"
          ]
        },
        {
          "name": "stderr",
          "output_type": "stream",
          "text": [
            "469it [01:13,  6.36it/s]\n"
          ]
        },
        {
          "name": "stdout",
          "output_type": "stream",
          "text": [
            "train Loss: 0.0186 Acc: 0.9946\n",
            "valid Loss: 0.0301 Acc: 0.9913\n",
            "------------------------------\n",
            "\n",
            "Best model saved.\n",
            "Training complete in 27m 10s\n",
            "Best val Acc: 0.992200\n"
          ]
        },
        {
          "data": {
            "text/html": [
              "Waiting for W&B process to finish... <strong style=\"color:green\">(success).</strong>"
            ],
            "text/plain": [
              "<IPython.core.display.HTML object>"
            ]
          },
          "metadata": {},
          "output_type": "display_data"
        },
        {
          "data": {
            "text/html": [
              "<style>\n",
              "    table.wandb td:nth-child(1) { padding: 0 10px; text-align: left ; width: auto;} td:nth-child(2) {text-align: left ; width: 100%}\n",
              "    .wandb-row { display: flex; flex-direction: row; flex-wrap: wrap; justify-content: flex-start; width: 100% }\n",
              "    .wandb-col { display: flex; flex-direction: column; flex-basis: 100%; flex: 1; padding: 10px; }\n",
              "    </style>\n",
              "<div class=\"wandb-row\"><div class=\"wandb-col\"><h3>Run history:</h3><br/><table class=\"wandb\"><tr><td>Train - acc</td><td>▁▇██████████████████</td></tr><tr><td>Train - loss</td><td>█▃▁▁▁▁▁▁▁▁▁▁▁▁▁▁▁▁▁▁▁▁▁▁▁▁▁▁▁▂▁▁▁▁▁▁▁▁▁▁</td></tr><tr><td>Valid - acc</td><td>▂▁▆▇▅▆▆▅▇▅▇▄█▇▇▇█▇▄█</td></tr><tr><td>Valid - loss</td><td>▇█▃▂▄▂▃▄▂▄▂▆▁▂▂▃▁▂▅▁</td></tr></table><br/></div><div class=\"wandb-col\"><h3>Run summary:</h3><br/><table class=\"wandb\"><tr><td>Train - acc</td><td>0.99463</td></tr><tr><td>Train - loss</td><td>0.0023</td></tr><tr><td>Valid - acc</td><td>0.9913</td></tr><tr><td>Valid - loss</td><td>0.03008</td></tr></table><br/></div></div>"
            ],
            "text/plain": [
              "<IPython.core.display.HTML object>"
            ]
          },
          "metadata": {},
          "output_type": "display_data"
        },
        {
          "data": {
            "text/html": [
              " View run <strong style=\"color:#cdcd00\">honest-darkness-1</strong> at: <a href='https://wandb.ai/ddmaster/INF8225%20-%20Projet%20final/runs/7u38qkxn' target=\"_blank\">https://wandb.ai/ddmaster/INF8225%20-%20Projet%20final/runs/7u38qkxn</a><br/>Synced 5 W&B file(s), 0 media file(s), 2 artifact file(s) and 1 other file(s)"
            ],
            "text/plain": [
              "<IPython.core.display.HTML object>"
            ]
          },
          "metadata": {},
          "output_type": "display_data"
        },
        {
          "data": {
            "text/html": [
              "Find logs at: <code>./wandb/run-20230501_041212-7u38qkxn/logs</code>"
            ],
            "text/plain": [
              "<IPython.core.display.HTML object>"
            ]
          },
          "metadata": {},
          "output_type": "display_data"
        }
      ],
      "source": [
        "config['model_name'] = 'resnet'\n",
        "config['dataset_name'] = 'mnist'\n",
        "model_ft, input_size = initialize_model(config['model_name'], config['dataset_name'])\n",
        "optimizer_ft = optim.SGD(model_ft.parameters(), lr=config['lr'], momentum=0.9, weight_decay = 0.0005, nesterov = True)\n",
        "scheduler_ft = CosineAnnealingLR(optimizer_ft, T_max = 60, eta_min = 1e-6 )\n",
        "criterion = nn.CrossEntropyLoss()\n",
        "model_ft = model_ft.to(device)\n",
        "\n",
        "with wandb.init(\n",
        "      config=config,\n",
        "      project='Project',\n",
        "      group= 'baseline_mnist',\n",
        "      save_code=True,\n",
        "  ):\n",
        "  model_ft, hist = train_model(\n",
        "      model_ft, mnist_trainset,\n",
        "      mnist_testset, criterion,\n",
        "      optimizer_ft, scheduler_ft,\n",
        "      num_epochs=config['epochs'],\n",
        "      model_type= \"Baseline\",\n",
        "      datasetname = config['dataset_name']\n",
        "      )\n"
      ]
    },
    {
      "cell_type": "markdown",
      "metadata": {
        "id": "Dang7Z1nQ7gh"
      },
      "source": [
        "# **Training ResNet-18 on CIFAR-10 Dataset**"
      ]
    },
    {
      "cell_type": "code",
      "execution_count": null,
      "metadata": {
        "colab": {
          "base_uri": "https://localhost:8080/",
          "height": 1000
        },
        "id": "pEU330ewK7Jp",
        "outputId": "b2fa6f46-d1df-4673-b72b-6ccf15b0fb48"
      },
      "outputs": [
        {
          "data": {
            "text/html": [
              "Tracking run with wandb version 0.15.0"
            ],
            "text/plain": [
              "<IPython.core.display.HTML object>"
            ]
          },
          "metadata": {},
          "output_type": "display_data"
        },
        {
          "data": {
            "text/html": [
              "Run data is saved locally in <code>/content/wandb/run-20230501_043938-4b5l4r5z</code>"
            ],
            "text/plain": [
              "<IPython.core.display.HTML object>"
            ]
          },
          "metadata": {},
          "output_type": "display_data"
        },
        {
          "data": {
            "text/html": [
              "Syncing run <strong><a href='https://wandb.ai/ddmaster/INF8225%20-%20Projet%20final/runs/4b5l4r5z' target=\"_blank\">denim-dew-2</a></strong> to <a href='https://wandb.ai/ddmaster/INF8225%20-%20Projet%20final' target=\"_blank\">Weights & Biases</a> (<a href='https://wandb.me/run' target=\"_blank\">docs</a>)<br/>"
            ],
            "text/plain": [
              "<IPython.core.display.HTML object>"
            ]
          },
          "metadata": {},
          "output_type": "display_data"
        },
        {
          "data": {
            "text/html": [
              " View project at <a href='https://wandb.ai/ddmaster/INF8225%20-%20Projet%20final' target=\"_blank\">https://wandb.ai/ddmaster/INF8225%20-%20Projet%20final</a>"
            ],
            "text/plain": [
              "<IPython.core.display.HTML object>"
            ]
          },
          "metadata": {},
          "output_type": "display_data"
        },
        {
          "data": {
            "text/html": [
              " View run at <a href='https://wandb.ai/ddmaster/INF8225%20-%20Projet%20final/runs/4b5l4r5z' target=\"_blank\">https://wandb.ai/ddmaster/INF8225%20-%20Projet%20final/runs/4b5l4r5z</a>"
            ],
            "text/plain": [
              "<IPython.core.display.HTML object>"
            ]
          },
          "metadata": {},
          "output_type": "display_data"
        },
        {
          "name": "stdout",
          "output_type": "stream",
          "text": [
            "DAmethod -  Baseline\n",
            "Epoch 1/20\n",
            "----------\n"
          ]
        },
        {
          "name": "stderr",
          "output_type": "stream",
          "text": [
            "391it [01:09,  5.61it/s]\n"
          ]
        },
        {
          "name": "stdout",
          "output_type": "stream",
          "text": [
            "train Loss: 2.1439 Acc: 0.2594\n",
            "valid Loss: 1.6627 Acc: 0.3824\n",
            "Saving model...\n",
            "------------------------------\n",
            "\n",
            "Epoch 2/20\n",
            "----------\n"
          ]
        },
        {
          "name": "stderr",
          "output_type": "stream",
          "text": [
            "391it [01:08,  5.68it/s]\n"
          ]
        },
        {
          "name": "stdout",
          "output_type": "stream",
          "text": [
            "train Loss: 1.5354 Acc: 0.4316\n",
            "valid Loss: 1.4112 Acc: 0.4866\n",
            "Saving model...\n",
            "------------------------------\n",
            "\n",
            "Epoch 3/20\n",
            "----------\n"
          ]
        },
        {
          "name": "stderr",
          "output_type": "stream",
          "text": [
            "391it [01:09,  5.59it/s]\n"
          ]
        },
        {
          "name": "stdout",
          "output_type": "stream",
          "text": [
            "train Loss: 1.2853 Acc: 0.5331\n",
            "valid Loss: 1.2625 Acc: 0.5514\n",
            "Saving model...\n",
            "------------------------------\n",
            "\n",
            "Epoch 4/20\n",
            "----------\n"
          ]
        },
        {
          "name": "stderr",
          "output_type": "stream",
          "text": [
            "391it [01:09,  5.63it/s]\n"
          ]
        },
        {
          "name": "stdout",
          "output_type": "stream",
          "text": [
            "train Loss: 1.0613 Acc: 0.6226\n",
            "valid Loss: 0.9874 Acc: 0.6472\n",
            "Saving model...\n",
            "------------------------------\n",
            "\n",
            "Epoch 5/20\n",
            "----------\n"
          ]
        },
        {
          "name": "stderr",
          "output_type": "stream",
          "text": [
            "391it [01:09,  5.65it/s]\n"
          ]
        },
        {
          "name": "stdout",
          "output_type": "stream",
          "text": [
            "train Loss: 0.9113 Acc: 0.6769\n",
            "valid Loss: 1.0163 Acc: 0.6495\n",
            "Saving model...\n",
            "------------------------------\n",
            "\n",
            "Epoch 6/20\n",
            "----------\n"
          ]
        },
        {
          "name": "stderr",
          "output_type": "stream",
          "text": [
            "391it [01:10,  5.55it/s]\n"
          ]
        },
        {
          "name": "stdout",
          "output_type": "stream",
          "text": [
            "train Loss: 0.8119 Acc: 0.7121\n",
            "valid Loss: 1.0030 Acc: 0.6650\n",
            "Saving model...\n",
            "------------------------------\n",
            "\n",
            "Epoch 7/20\n",
            "----------\n"
          ]
        },
        {
          "name": "stderr",
          "output_type": "stream",
          "text": [
            "391it [01:09,  5.65it/s]\n"
          ]
        },
        {
          "name": "stdout",
          "output_type": "stream",
          "text": [
            "train Loss: 0.7245 Acc: 0.7452\n",
            "valid Loss: 0.7642 Acc: 0.7365\n",
            "Saving model...\n",
            "------------------------------\n",
            "\n",
            "Epoch 8/20\n",
            "----------\n"
          ]
        },
        {
          "name": "stderr",
          "output_type": "stream",
          "text": [
            "391it [01:09,  5.59it/s]\n"
          ]
        },
        {
          "name": "stdout",
          "output_type": "stream",
          "text": [
            "train Loss: 0.6450 Acc: 0.7750\n",
            "valid Loss: 0.7473 Acc: 0.7415\n",
            "Saving model...\n",
            "------------------------------\n",
            "\n",
            "Epoch 9/20\n",
            "----------\n"
          ]
        },
        {
          "name": "stderr",
          "output_type": "stream",
          "text": [
            "391it [01:08,  5.68it/s]\n"
          ]
        },
        {
          "name": "stdout",
          "output_type": "stream",
          "text": [
            "train Loss: 0.5869 Acc: 0.7962\n",
            "valid Loss: 0.8212 Acc: 0.7336\n",
            "------------------------------\n",
            "\n",
            "Epoch 10/20\n",
            "----------\n"
          ]
        },
        {
          "name": "stderr",
          "output_type": "stream",
          "text": [
            "391it [01:09,  5.66it/s]\n"
          ]
        },
        {
          "name": "stdout",
          "output_type": "stream",
          "text": [
            "train Loss: 0.5457 Acc: 0.8126\n",
            "valid Loss: 0.6317 Acc: 0.7840\n",
            "Saving model...\n",
            "------------------------------\n",
            "\n",
            "Epoch 11/20\n",
            "----------\n"
          ]
        },
        {
          "name": "stderr",
          "output_type": "stream",
          "text": [
            "391it [01:09,  5.62it/s]\n"
          ]
        },
        {
          "name": "stdout",
          "output_type": "stream",
          "text": [
            "train Loss: 0.5130 Acc: 0.8225\n",
            "valid Loss: 0.6102 Acc: 0.7999\n",
            "Saving model...\n",
            "------------------------------\n",
            "\n",
            "Epoch 12/20\n",
            "----------\n"
          ]
        },
        {
          "name": "stderr",
          "output_type": "stream",
          "text": [
            "391it [01:08,  5.67it/s]\n"
          ]
        },
        {
          "name": "stdout",
          "output_type": "stream",
          "text": [
            "train Loss: 0.4900 Acc: 0.8322\n",
            "valid Loss: 0.7122 Acc: 0.7703\n",
            "------------------------------\n",
            "\n",
            "Epoch 13/20\n",
            "----------\n"
          ]
        },
        {
          "name": "stderr",
          "output_type": "stream",
          "text": [
            "391it [01:09,  5.62it/s]\n"
          ]
        },
        {
          "name": "stdout",
          "output_type": "stream",
          "text": [
            "train Loss: 0.4654 Acc: 0.8390\n",
            "valid Loss: 0.5568 Acc: 0.8122\n",
            "Saving model...\n",
            "------------------------------\n",
            "\n",
            "Epoch 14/20\n",
            "----------\n"
          ]
        },
        {
          "name": "stderr",
          "output_type": "stream",
          "text": [
            "391it [01:09,  5.63it/s]\n"
          ]
        },
        {
          "name": "stdout",
          "output_type": "stream",
          "text": [
            "train Loss: 0.4530 Acc: 0.8452\n",
            "valid Loss: 0.7468 Acc: 0.7581\n",
            "------------------------------\n",
            "\n",
            "Epoch 15/20\n",
            "----------\n"
          ]
        },
        {
          "name": "stderr",
          "output_type": "stream",
          "text": [
            "391it [01:09,  5.64it/s]\n"
          ]
        },
        {
          "name": "stdout",
          "output_type": "stream",
          "text": [
            "train Loss: 0.4312 Acc: 0.8525\n",
            "valid Loss: 0.6759 Acc: 0.7747\n",
            "------------------------------\n",
            "\n",
            "Epoch 16/20\n",
            "----------\n"
          ]
        },
        {
          "name": "stderr",
          "output_type": "stream",
          "text": [
            "391it [01:09,  5.62it/s]\n"
          ]
        },
        {
          "name": "stdout",
          "output_type": "stream",
          "text": [
            "train Loss: 0.4164 Acc: 0.8571\n",
            "valid Loss: 0.6018 Acc: 0.8025\n",
            "------------------------------\n",
            "\n",
            "Epoch 17/20\n",
            "----------\n"
          ]
        },
        {
          "name": "stderr",
          "output_type": "stream",
          "text": [
            "391it [01:08,  5.67it/s]\n"
          ]
        },
        {
          "name": "stdout",
          "output_type": "stream",
          "text": [
            "train Loss: 0.3958 Acc: 0.8650\n",
            "valid Loss: 0.5062 Acc: 0.8313\n",
            "Saving model...\n",
            "------------------------------\n",
            "\n",
            "Epoch 18/20\n",
            "----------\n"
          ]
        },
        {
          "name": "stderr",
          "output_type": "stream",
          "text": [
            "391it [01:09,  5.63it/s]\n"
          ]
        },
        {
          "name": "stdout",
          "output_type": "stream",
          "text": [
            "train Loss: 0.3883 Acc: 0.8660\n",
            "valid Loss: 0.5286 Acc: 0.8259\n",
            "------------------------------\n",
            "\n",
            "Epoch 19/20\n",
            "----------\n"
          ]
        },
        {
          "name": "stderr",
          "output_type": "stream",
          "text": [
            "391it [01:10,  5.53it/s]\n"
          ]
        },
        {
          "name": "stdout",
          "output_type": "stream",
          "text": [
            "train Loss: 0.3728 Acc: 0.8718\n",
            "valid Loss: 0.4966 Acc: 0.8354\n",
            "Saving model...\n",
            "------------------------------\n",
            "\n",
            "Epoch 20/20\n",
            "----------\n"
          ]
        },
        {
          "name": "stderr",
          "output_type": "stream",
          "text": [
            "391it [01:10,  5.56it/s]\n"
          ]
        },
        {
          "name": "stdout",
          "output_type": "stream",
          "text": [
            "train Loss: 0.3635 Acc: 0.8760\n",
            "valid Loss: 0.5040 Acc: 0.8341\n",
            "------------------------------\n",
            "\n",
            "Best model saved.\n",
            "Training complete in 24m 59s\n",
            "Best val Acc: 0.835400\n"
          ]
        },
        {
          "data": {
            "text/html": [
              "Waiting for W&B process to finish... <strong style=\"color:green\">(success).</strong>"
            ],
            "text/plain": [
              "<IPython.core.display.HTML object>"
            ]
          },
          "metadata": {},
          "output_type": "display_data"
        },
        {
          "data": {
            "text/html": [
              "<style>\n",
              "    table.wandb td:nth-child(1) { padding: 0 10px; text-align: left ; width: auto;} td:nth-child(2) {text-align: left ; width: 100%}\n",
              "    .wandb-row { display: flex; flex-direction: row; flex-wrap: wrap; justify-content: flex-start; width: 100% }\n",
              "    .wandb-col { display: flex; flex-direction: column; flex-basis: 100%; flex: 1; padding: 10px; }\n",
              "    </style>\n",
              "<div class=\"wandb-row\"><div class=\"wandb-col\"><h3>Run history:</h3><br/><table class=\"wandb\"><tr><td>Train - acc</td><td>▁▃▄▅▆▆▇▇▇▇▇█████████</td></tr><tr><td>Train - loss</td><td>█▇▆▆▅▄▅▄▃▃▃▃▃▃▂▃▃▂▂▃▂▂▂▂▂▂▂▂▂▂▁▂▂▂▁▁▂▂▁▂</td></tr><tr><td>Valid - acc</td><td>▁▃▄▅▅▅▆▇▆▇▇▇█▇▇▇████</td></tr><tr><td>Valid - loss</td><td>█▆▆▄▄▄▃▃▃▂▂▂▁▃▂▂▁▁▁▁</td></tr></table><br/></div><div class=\"wandb-col\"><h3>Run summary:</h3><br/><table class=\"wandb\"><tr><td>Train - acc</td><td>0.87602</td></tr><tr><td>Train - loss</td><td>0.37879</td></tr><tr><td>Valid - acc</td><td>0.8341</td></tr><tr><td>Valid - loss</td><td>0.504</td></tr></table><br/></div></div>"
            ],
            "text/plain": [
              "<IPython.core.display.HTML object>"
            ]
          },
          "metadata": {},
          "output_type": "display_data"
        },
        {
          "data": {
            "text/html": [
              " View run <strong style=\"color:#cdcd00\">denim-dew-2</strong> at: <a href='https://wandb.ai/ddmaster/INF8225%20-%20Projet%20final/runs/4b5l4r5z' target=\"_blank\">https://wandb.ai/ddmaster/INF8225%20-%20Projet%20final/runs/4b5l4r5z</a><br/>Synced 5 W&B file(s), 0 media file(s), 2 artifact file(s) and 1 other file(s)"
            ],
            "text/plain": [
              "<IPython.core.display.HTML object>"
            ]
          },
          "metadata": {},
          "output_type": "display_data"
        },
        {
          "data": {
            "text/html": [
              "Find logs at: <code>./wandb/run-20230501_043938-4b5l4r5z/logs</code>"
            ],
            "text/plain": [
              "<IPython.core.display.HTML object>"
            ]
          },
          "metadata": {},
          "output_type": "display_data"
        }
      ],
      "source": [
        "config['model_name'] = 'resnet'\n",
        "config['dataset_name'] = 'cifar10'\n",
        "model_ft, input_size = initialize_model(config['model_name'], config['dataset_name'])\n",
        "optimizer = optim.SGD(model_ft.parameters(), lr=config['lr'], momentum=0.9, weight_decay = 0.0005, nesterov = True)\n",
        "scheduler = CosineAnnealingLR(optimizer, T_max = 60, eta_min = 1e-6)\n",
        "criterion = nn.CrossEntropyLoss()\n",
        "model_ft = model_ft.to(device)\n",
        "\n",
        "with wandb.init(\n",
        "        config=config,\n",
        "        project='Project',\n",
        "        group= 'baseline_cifar10',\n",
        "        save_code=True,\n",
        "    ):\n",
        "  model_ft, hist = train_model(\n",
        "      model_ft,\n",
        "      CIFAR10_trainset,\n",
        "      CIFAR10_testset,\n",
        "      criterion,\n",
        "      optimizer,\n",
        "      scheduler,\n",
        "      num_epochs=20,\n",
        "      model_type = 'Baseline',\n",
        "      datasetname = config['dataset_name']\n",
        "      )\n"
      ]
    },
    {
      "cell_type": "markdown",
      "metadata": {
        "id": "IT1dNqPmREtB"
      },
      "source": [
        "# **Training ResNet-18 on CIFAR-100 Dataset**"
      ]
    },
    {
      "cell_type": "code",
      "execution_count": null,
      "metadata": {
        "colab": {
          "base_uri": "https://localhost:8080/",
          "height": 1000
        },
        "id": "9xiDNLB7akIY",
        "outputId": "41cf4165-d921-4787-f1cf-56d1d257d1f0"
      },
      "outputs": [
        {
          "data": {
            "text/html": [
              "Tracking run with wandb version 0.15.0"
            ],
            "text/plain": [
              "<IPython.core.display.HTML object>"
            ]
          },
          "metadata": {},
          "output_type": "display_data"
        },
        {
          "data": {
            "text/html": [
              "Run data is saved locally in <code>/content/wandb/run-20230501_050453-ijhxqqt2</code>"
            ],
            "text/plain": [
              "<IPython.core.display.HTML object>"
            ]
          },
          "metadata": {},
          "output_type": "display_data"
        },
        {
          "data": {
            "text/html": [
              "Syncing run <strong><a href='https://wandb.ai/ddmaster/INF8225%20-%20Projet%20final/runs/ijhxqqt2' target=\"_blank\">scarlet-moon-3</a></strong> to <a href='https://wandb.ai/ddmaster/INF8225%20-%20Projet%20final' target=\"_blank\">Weights & Biases</a> (<a href='https://wandb.me/run' target=\"_blank\">docs</a>)<br/>"
            ],
            "text/plain": [
              "<IPython.core.display.HTML object>"
            ]
          },
          "metadata": {},
          "output_type": "display_data"
        },
        {
          "data": {
            "text/html": [
              " View project at <a href='https://wandb.ai/ddmaster/INF8225%20-%20Projet%20final' target=\"_blank\">https://wandb.ai/ddmaster/INF8225%20-%20Projet%20final</a>"
            ],
            "text/plain": [
              "<IPython.core.display.HTML object>"
            ]
          },
          "metadata": {},
          "output_type": "display_data"
        },
        {
          "data": {
            "text/html": [
              " View run at <a href='https://wandb.ai/ddmaster/INF8225%20-%20Projet%20final/runs/ijhxqqt2' target=\"_blank\">https://wandb.ai/ddmaster/INF8225%20-%20Projet%20final/runs/ijhxqqt2</a>"
            ],
            "text/plain": [
              "<IPython.core.display.HTML object>"
            ]
          },
          "metadata": {},
          "output_type": "display_data"
        },
        {
          "name": "stdout",
          "output_type": "stream",
          "text": [
            "DAmethod -  Baseline\n",
            "Epoch 1/20\n",
            "----------\n"
          ]
        },
        {
          "name": "stderr",
          "output_type": "stream",
          "text": [
            "391it [01:10,  5.51it/s]\n"
          ]
        },
        {
          "name": "stdout",
          "output_type": "stream",
          "text": [
            "train Loss: 3.9111 Acc: 0.1001\n",
            "valid Loss: 3.5916 Acc: 0.1392\n",
            "Saving model...\n",
            "------------------------------\n",
            "\n",
            "Epoch 2/20\n",
            "----------\n"
          ]
        },
        {
          "name": "stderr",
          "output_type": "stream",
          "text": [
            "391it [01:09,  5.66it/s]\n"
          ]
        },
        {
          "name": "stdout",
          "output_type": "stream",
          "text": [
            "train Loss: 3.1986 Acc: 0.2076\n",
            "valid Loss: 3.0796 Acc: 0.2376\n",
            "Saving model...\n",
            "------------------------------\n",
            "\n",
            "Epoch 3/20\n",
            "----------\n"
          ]
        },
        {
          "name": "stderr",
          "output_type": "stream",
          "text": [
            "391it [01:09,  5.59it/s]\n"
          ]
        },
        {
          "name": "stdout",
          "output_type": "stream",
          "text": [
            "train Loss: 2.6656 Acc: 0.3117\n",
            "valid Loss: 2.6789 Acc: 0.3136\n",
            "Saving model...\n",
            "------------------------------\n",
            "\n",
            "Epoch 4/20\n",
            "----------\n"
          ]
        },
        {
          "name": "stderr",
          "output_type": "stream",
          "text": [
            "391it [01:09,  5.65it/s]\n"
          ]
        },
        {
          "name": "stdout",
          "output_type": "stream",
          "text": [
            "train Loss: 2.2421 Acc: 0.3966\n",
            "valid Loss: 2.4106 Acc: 0.3815\n",
            "Saving model...\n",
            "------------------------------\n",
            "\n",
            "Epoch 5/20\n",
            "----------\n"
          ]
        },
        {
          "name": "stderr",
          "output_type": "stream",
          "text": [
            "391it [01:09,  5.63it/s]\n"
          ]
        },
        {
          "name": "stdout",
          "output_type": "stream",
          "text": [
            "train Loss: 1.9524 Acc: 0.4632\n",
            "valid Loss: 2.1802 Acc: 0.4244\n",
            "Saving model...\n",
            "------------------------------\n",
            "\n",
            "Epoch 6/20\n",
            "----------\n"
          ]
        },
        {
          "name": "stderr",
          "output_type": "stream",
          "text": [
            "391it [01:10,  5.58it/s]\n"
          ]
        },
        {
          "name": "stdout",
          "output_type": "stream",
          "text": [
            "train Loss: 1.7663 Acc: 0.5091\n",
            "valid Loss: 1.9521 Acc: 0.4752\n",
            "Saving model...\n",
            "------------------------------\n",
            "\n",
            "Epoch 7/20\n",
            "----------\n"
          ]
        },
        {
          "name": "stderr",
          "output_type": "stream",
          "text": [
            "391it [01:09,  5.65it/s]\n"
          ]
        },
        {
          "name": "stdout",
          "output_type": "stream",
          "text": [
            "train Loss: 1.6355 Acc: 0.5389\n",
            "valid Loss: 1.7921 Acc: 0.5050\n",
            "Saving model...\n",
            "------------------------------\n",
            "\n",
            "Epoch 8/20\n",
            "----------\n"
          ]
        },
        {
          "name": "stderr",
          "output_type": "stream",
          "text": [
            "391it [01:08,  5.68it/s]\n"
          ]
        },
        {
          "name": "stdout",
          "output_type": "stream",
          "text": [
            "train Loss: 1.5450 Acc: 0.5632\n",
            "valid Loss: 1.6741 Acc: 0.5442\n",
            "Saving model...\n",
            "------------------------------\n",
            "\n",
            "Epoch 9/20\n",
            "----------\n"
          ]
        },
        {
          "name": "stderr",
          "output_type": "stream",
          "text": [
            "391it [01:09,  5.63it/s]\n"
          ]
        },
        {
          "name": "stdout",
          "output_type": "stream",
          "text": [
            "train Loss: 1.4606 Acc: 0.5844\n",
            "valid Loss: 1.7797 Acc: 0.5248\n",
            "------------------------------\n",
            "\n",
            "Epoch 10/20\n",
            "----------\n"
          ]
        },
        {
          "name": "stderr",
          "output_type": "stream",
          "text": [
            "391it [01:09,  5.66it/s]\n"
          ]
        },
        {
          "name": "stdout",
          "output_type": "stream",
          "text": [
            "train Loss: 1.3971 Acc: 0.6015\n",
            "valid Loss: 1.9435 Acc: 0.4914\n",
            "------------------------------\n",
            "\n",
            "Epoch 11/20\n",
            "----------\n"
          ]
        },
        {
          "name": "stderr",
          "output_type": "stream",
          "text": [
            "391it [01:09,  5.60it/s]\n"
          ]
        },
        {
          "name": "stdout",
          "output_type": "stream",
          "text": [
            "train Loss: 1.3448 Acc: 0.6144\n",
            "valid Loss: 1.6185 Acc: 0.5587\n",
            "Saving model...\n",
            "------------------------------\n",
            "\n",
            "Epoch 12/20\n",
            "----------\n"
          ]
        },
        {
          "name": "stderr",
          "output_type": "stream",
          "text": [
            "391it [01:09,  5.65it/s]\n"
          ]
        },
        {
          "name": "stdout",
          "output_type": "stream",
          "text": [
            "train Loss: 1.2951 Acc: 0.6246\n",
            "valid Loss: 1.6387 Acc: 0.5499\n",
            "------------------------------\n",
            "\n",
            "Epoch 13/20\n",
            "----------\n"
          ]
        },
        {
          "name": "stderr",
          "output_type": "stream",
          "text": [
            "391it [01:09,  5.65it/s]\n"
          ]
        },
        {
          "name": "stdout",
          "output_type": "stream",
          "text": [
            "train Loss: 1.2492 Acc: 0.6379\n",
            "valid Loss: 1.8440 Acc: 0.5157\n",
            "------------------------------\n",
            "\n",
            "Epoch 14/20\n",
            "----------\n"
          ]
        },
        {
          "name": "stderr",
          "output_type": "stream",
          "text": [
            "391it [01:09,  5.60it/s]\n"
          ]
        },
        {
          "name": "stdout",
          "output_type": "stream",
          "text": [
            "train Loss: 1.2074 Acc: 0.6506\n",
            "valid Loss: 1.6338 Acc: 0.5591\n",
            "Saving model...\n",
            "------------------------------\n",
            "\n",
            "Epoch 15/20\n",
            "----------\n"
          ]
        },
        {
          "name": "stderr",
          "output_type": "stream",
          "text": [
            "391it [01:09,  5.65it/s]\n"
          ]
        },
        {
          "name": "stdout",
          "output_type": "stream",
          "text": [
            "train Loss: 1.1745 Acc: 0.6566\n",
            "valid Loss: 1.7177 Acc: 0.5603\n",
            "Saving model...\n",
            "------------------------------\n",
            "\n",
            "Epoch 16/20\n",
            "----------\n"
          ]
        },
        {
          "name": "stderr",
          "output_type": "stream",
          "text": [
            "391it [01:08,  5.68it/s]\n"
          ]
        },
        {
          "name": "stdout",
          "output_type": "stream",
          "text": [
            "train Loss: 1.1390 Acc: 0.6680\n",
            "valid Loss: 1.6695 Acc: 0.5577\n",
            "------------------------------\n",
            "\n",
            "Epoch 17/20\n",
            "----------\n"
          ]
        },
        {
          "name": "stderr",
          "output_type": "stream",
          "text": [
            "391it [01:08,  5.68it/s]\n"
          ]
        },
        {
          "name": "stdout",
          "output_type": "stream",
          "text": [
            "train Loss: 1.1054 Acc: 0.6753\n",
            "valid Loss: 1.4462 Acc: 0.6064\n",
            "Saving model...\n",
            "------------------------------\n",
            "\n",
            "Epoch 18/20\n",
            "----------\n"
          ]
        },
        {
          "name": "stderr",
          "output_type": "stream",
          "text": [
            "391it [01:08,  5.68it/s]\n"
          ]
        },
        {
          "name": "stdout",
          "output_type": "stream",
          "text": [
            "train Loss: 1.0685 Acc: 0.6862\n",
            "valid Loss: 1.5638 Acc: 0.5755\n",
            "------------------------------\n",
            "\n",
            "Epoch 19/20\n",
            "----------\n"
          ]
        },
        {
          "name": "stderr",
          "output_type": "stream",
          "text": [
            "391it [01:09,  5.59it/s]\n"
          ]
        },
        {
          "name": "stdout",
          "output_type": "stream",
          "text": [
            "train Loss: 1.0433 Acc: 0.6929\n",
            "valid Loss: 1.6284 Acc: 0.5704\n",
            "------------------------------\n",
            "\n",
            "Epoch 20/20\n",
            "----------\n"
          ]
        },
        {
          "name": "stderr",
          "output_type": "stream",
          "text": [
            "391it [01:09,  5.65it/s]\n"
          ]
        },
        {
          "name": "stdout",
          "output_type": "stream",
          "text": [
            "train Loss: 1.0082 Acc: 0.7034\n",
            "valid Loss: 1.5192 Acc: 0.5840\n",
            "------------------------------\n",
            "\n",
            "Best model saved.\n",
            "Training complete in 24m 57s\n",
            "Best val Acc: 0.606400\n"
          ]
        },
        {
          "data": {
            "text/html": [
              "Waiting for W&B process to finish... <strong style=\"color:green\">(success).</strong>"
            ],
            "text/plain": [
              "<IPython.core.display.HTML object>"
            ]
          },
          "metadata": {},
          "output_type": "display_data"
        },
        {
          "data": {
            "text/html": [
              "<style>\n",
              "    table.wandb td:nth-child(1) { padding: 0 10px; text-align: left ; width: auto;} td:nth-child(2) {text-align: left ; width: 100%}\n",
              "    .wandb-row { display: flex; flex-direction: row; flex-wrap: wrap; justify-content: flex-start; width: 100% }\n",
              "    .wandb-col { display: flex; flex-direction: column; flex-basis: 100%; flex: 1; padding: 10px; }\n",
              "    </style>\n",
              "<div class=\"wandb-row\"><div class=\"wandb-col\"><h3>Run history:</h3><br/><table class=\"wandb\"><tr><td>Train - acc</td><td>▁▂▃▄▅▆▆▆▇▇▇▇▇▇▇█████</td></tr><tr><td>Train - loss</td><td>█▇▆▅▅▄▄▃▄▃▃▄▃▃▂▃▂▃▂▃▂▂▂▂▂▂▂▂▁▂▂▂▂▂▂▂▁▂▁▂</td></tr><tr><td>Valid - acc</td><td>▁▂▄▅▅▆▆▇▇▆▇▇▇▇▇▇██▇█</td></tr><tr><td>Valid - loss</td><td>█▆▅▄▃▃▂▂▂▃▂▂▂▂▂▂▁▁▂▁</td></tr></table><br/></div><div class=\"wandb-col\"><h3>Run summary:</h3><br/><table class=\"wandb\"><tr><td>Train - acc</td><td>0.70342</td></tr><tr><td>Train - loss</td><td>1.06535</td></tr><tr><td>Valid - acc</td><td>0.584</td></tr><tr><td>Valid - loss</td><td>1.51922</td></tr></table><br/></div></div>"
            ],
            "text/plain": [
              "<IPython.core.display.HTML object>"
            ]
          },
          "metadata": {},
          "output_type": "display_data"
        },
        {
          "data": {
            "text/html": [
              " View run <strong style=\"color:#cdcd00\">scarlet-moon-3</strong> at: <a href='https://wandb.ai/ddmaster/INF8225%20-%20Projet%20final/runs/ijhxqqt2' target=\"_blank\">https://wandb.ai/ddmaster/INF8225%20-%20Projet%20final/runs/ijhxqqt2</a><br/>Synced 5 W&B file(s), 0 media file(s), 2 artifact file(s) and 1 other file(s)"
            ],
            "text/plain": [
              "<IPython.core.display.HTML object>"
            ]
          },
          "metadata": {},
          "output_type": "display_data"
        },
        {
          "data": {
            "text/html": [
              "Find logs at: <code>./wandb/run-20230501_050453-ijhxqqt2/logs</code>"
            ],
            "text/plain": [
              "<IPython.core.display.HTML object>"
            ]
          },
          "metadata": {},
          "output_type": "display_data"
        }
      ],
      "source": [
        "config['dataset_name'] = 'cifar100'\n",
        "config['model_name'] = 'resnet'\n",
        "\n",
        "model_ft, input_size = initialize_model(config['model_name'], config['dataset_name'])\n",
        "optimizer = optim.SGD(model_ft.parameters(), lr=config['lr'], momentum=0.9, weight_decay = 0.0005, nesterov = True)\n",
        "scheduler = CosineAnnealingLR(optimizer, T_max = 60, eta_min = 1e-6)\n",
        "criterion = nn.CrossEntropyLoss()\n",
        "model_ft = model_ft.to(device)\n",
        "\n",
        "with wandb.init(\n",
        "        config=config,\n",
        "        project='Project',\n",
        "        group= 'baseline_cifar100',\n",
        "        save_code=True,\n",
        "    ):\n",
        "  model_ft, hist = train_model(\n",
        "      model_ft,\n",
        "      CIFAR100_trainset,\n",
        "      CIFAR100_testset,\n",
        "      criterion,\n",
        "      optimizer,\n",
        "      scheduler,\n",
        "      num_epochs=config['epochs'],\n",
        "      model_type = 'Baseline',\n",
        "      datasetname = config['dataset_name'])"
      ]
    },
    {
      "cell_type": "markdown",
      "metadata": {
        "id": "2M7cK5YobQnc"
      },
      "source": [
        "# **Mixup**"
      ]
    },
    {
      "cell_type": "code",
      "execution_count": null,
      "metadata": {
        "id": "Znxgl-wtbSR-"
      },
      "outputs": [],
      "source": [
        "def mixup(inputs, labels, alpha):\n",
        "  batch_size = inputs.size(0)\n",
        "  shuffled_batch = torch.randperm(batch_size).to(config['device'])\n",
        "  second_inputs = inputs[shuffled_batch]\n",
        "  second_labels = labels[shuffled_batch]\n",
        "  lam = np.random.beta(alpha, alpha)\n",
        "  mixup_inputs = inputs * lam + second_inputs * (1 - lam)\n",
        "  return mixup_inputs, labels, second_labels, lam\n",
        "\n",
        "def mixup_criterion(criterion, output, original_labels, shuffled_labels, lam):\n",
        "    return lam * criterion(output, original_labels) + (1 - lam) * criterion(output, shuffled_labels)\n"
      ]
    },
    {
      "cell_type": "markdown",
      "metadata": {
        "id": "QJbIA3PmNcDx"
      },
      "source": [
        "# **Training ResNet-18 + Mix Up on CIFAR-10 Dataset**"
      ]
    },
    {
      "cell_type": "code",
      "execution_count": null,
      "metadata": {
        "colab": {
          "base_uri": "https://localhost:8080/",
          "height": 1000
        },
        "id": "t-2zZtjIblje",
        "outputId": "0538074d-ccc8-427e-c2d5-a71f0f919eb2"
      },
      "outputs": [
        {
          "data": {
            "text/html": [
              "Tracking run with wandb version 0.15.0"
            ],
            "text/plain": [
              "<IPython.core.display.HTML object>"
            ]
          },
          "metadata": {},
          "output_type": "display_data"
        },
        {
          "data": {
            "text/html": [
              "Run data is saved locally in <code>/content/wandb/run-20230501_053005-49vsfxv8</code>"
            ],
            "text/plain": [
              "<IPython.core.display.HTML object>"
            ]
          },
          "metadata": {},
          "output_type": "display_data"
        },
        {
          "data": {
            "text/html": [
              "Syncing run <strong><a href='https://wandb.ai/ddmaster/INF8225%20-%20Projet%20final/runs/49vsfxv8' target=\"_blank\">polar-pond-4</a></strong> to <a href='https://wandb.ai/ddmaster/INF8225%20-%20Projet%20final' target=\"_blank\">Weights & Biases</a> (<a href='https://wandb.me/run' target=\"_blank\">docs</a>)<br/>"
            ],
            "text/plain": [
              "<IPython.core.display.HTML object>"
            ]
          },
          "metadata": {},
          "output_type": "display_data"
        },
        {
          "data": {
            "text/html": [
              " View project at <a href='https://wandb.ai/ddmaster/INF8225%20-%20Projet%20final' target=\"_blank\">https://wandb.ai/ddmaster/INF8225%20-%20Projet%20final</a>"
            ],
            "text/plain": [
              "<IPython.core.display.HTML object>"
            ]
          },
          "metadata": {},
          "output_type": "display_data"
        },
        {
          "data": {
            "text/html": [
              " View run at <a href='https://wandb.ai/ddmaster/INF8225%20-%20Projet%20final/runs/49vsfxv8' target=\"_blank\">https://wandb.ai/ddmaster/INF8225%20-%20Projet%20final/runs/49vsfxv8</a>"
            ],
            "text/plain": [
              "<IPython.core.display.HTML object>"
            ]
          },
          "metadata": {},
          "output_type": "display_data"
        },
        {
          "name": "stdout",
          "output_type": "stream",
          "text": [
            "DAmethod -  MixUp\n",
            "Epoch 1/20\n",
            "----------\n"
          ]
        },
        {
          "name": "stderr",
          "output_type": "stream",
          "text": [
            "391it [01:09,  5.61it/s]\n"
          ]
        },
        {
          "name": "stdout",
          "output_type": "stream",
          "text": [
            "train Loss: 2.2598 Acc: 0.1881\n",
            "valid Loss: 1.7518 Acc: 0.3710\n",
            "Saving model...\n",
            "------------------------------\n",
            "\n",
            "Epoch 2/20\n",
            "----------\n"
          ]
        },
        {
          "name": "stderr",
          "output_type": "stream",
          "text": [
            "391it [01:10,  5.56it/s]\n"
          ]
        },
        {
          "name": "stdout",
          "output_type": "stream",
          "text": [
            "train Loss: 1.9485 Acc: 0.2480\n",
            "valid Loss: 1.5301 Acc: 0.4511\n",
            "Saving model...\n",
            "------------------------------\n",
            "\n",
            "Epoch 3/20\n",
            "----------\n"
          ]
        },
        {
          "name": "stderr",
          "output_type": "stream",
          "text": [
            "391it [01:09,  5.63it/s]\n"
          ]
        },
        {
          "name": "stdout",
          "output_type": "stream",
          "text": [
            "train Loss: 1.8221 Acc: 0.2779\n",
            "valid Loss: 1.4737 Acc: 0.4733\n",
            "Saving model...\n",
            "------------------------------\n",
            "\n",
            "Epoch 4/20\n",
            "----------\n"
          ]
        },
        {
          "name": "stderr",
          "output_type": "stream",
          "text": [
            "391it [01:09,  5.61it/s]\n"
          ]
        },
        {
          "name": "stdout",
          "output_type": "stream",
          "text": [
            "train Loss: 1.7438 Acc: 0.3092\n",
            "valid Loss: 1.3487 Acc: 0.5290\n",
            "Saving model...\n",
            "------------------------------\n",
            "\n",
            "Epoch 5/20\n",
            "----------\n"
          ]
        },
        {
          "name": "stderr",
          "output_type": "stream",
          "text": [
            "391it [01:09,  5.64it/s]\n"
          ]
        },
        {
          "name": "stdout",
          "output_type": "stream",
          "text": [
            "train Loss: 1.6587 Acc: 0.3397\n",
            "valid Loss: 1.3733 Acc: 0.5077\n",
            "------------------------------\n",
            "\n",
            "Epoch 6/20\n",
            "----------\n"
          ]
        },
        {
          "name": "stderr",
          "output_type": "stream",
          "text": [
            "391it [01:09,  5.62it/s]\n"
          ]
        },
        {
          "name": "stdout",
          "output_type": "stream",
          "text": [
            "train Loss: 1.5803 Acc: 0.3548\n",
            "valid Loss: 1.1621 Acc: 0.6065\n",
            "Saving model...\n",
            "------------------------------\n",
            "\n",
            "Epoch 7/20\n",
            "----------\n"
          ]
        },
        {
          "name": "stderr",
          "output_type": "stream",
          "text": [
            "391it [01:10,  5.56it/s]\n"
          ]
        },
        {
          "name": "stdout",
          "output_type": "stream",
          "text": [
            "train Loss: 1.5405 Acc: 0.3636\n",
            "valid Loss: 1.0832 Acc: 0.6372\n",
            "Saving model...\n",
            "------------------------------\n",
            "\n",
            "Epoch 8/20\n",
            "----------\n"
          ]
        },
        {
          "name": "stderr",
          "output_type": "stream",
          "text": [
            "391it [01:09,  5.63it/s]\n"
          ]
        },
        {
          "name": "stdout",
          "output_type": "stream",
          "text": [
            "train Loss: 1.4544 Acc: 0.4077\n",
            "valid Loss: 0.9519 Acc: 0.6965\n",
            "Saving model...\n",
            "------------------------------\n",
            "\n",
            "Epoch 9/20\n",
            "----------\n"
          ]
        },
        {
          "name": "stderr",
          "output_type": "stream",
          "text": [
            "391it [01:09,  5.63it/s]\n"
          ]
        },
        {
          "name": "stdout",
          "output_type": "stream",
          "text": [
            "train Loss: 1.4046 Acc: 0.4161\n",
            "valid Loss: 0.9125 Acc: 0.7090\n",
            "Saving model...\n",
            "------------------------------\n",
            "\n",
            "Epoch 10/20\n",
            "----------\n"
          ]
        },
        {
          "name": "stderr",
          "output_type": "stream",
          "text": [
            "391it [01:10,  5.56it/s]\n"
          ]
        },
        {
          "name": "stdout",
          "output_type": "stream",
          "text": [
            "train Loss: 1.3621 Acc: 0.4352\n",
            "valid Loss: 0.8787 Acc: 0.7282\n",
            "Saving model...\n",
            "------------------------------\n",
            "\n",
            "Epoch 11/20\n",
            "----------\n"
          ]
        },
        {
          "name": "stderr",
          "output_type": "stream",
          "text": [
            "391it [01:09,  5.60it/s]\n"
          ]
        },
        {
          "name": "stdout",
          "output_type": "stream",
          "text": [
            "train Loss: 1.3179 Acc: 0.4106\n",
            "valid Loss: 0.7939 Acc: 0.7483\n",
            "Saving model...\n",
            "------------------------------\n",
            "\n",
            "Epoch 12/20\n",
            "----------\n"
          ]
        },
        {
          "name": "stderr",
          "output_type": "stream",
          "text": [
            "391it [01:10,  5.58it/s]\n"
          ]
        },
        {
          "name": "stdout",
          "output_type": "stream",
          "text": [
            "train Loss: 1.3058 Acc: 0.4155\n",
            "valid Loss: 0.7696 Acc: 0.7765\n",
            "Saving model...\n",
            "------------------------------\n",
            "\n",
            "Epoch 13/20\n",
            "----------\n"
          ]
        },
        {
          "name": "stderr",
          "output_type": "stream",
          "text": [
            "391it [01:09,  5.62it/s]\n"
          ]
        },
        {
          "name": "stdout",
          "output_type": "stream",
          "text": [
            "train Loss: 1.2991 Acc: 0.4431\n",
            "valid Loss: 0.6674 Acc: 0.8019\n",
            "Saving model...\n",
            "------------------------------\n",
            "\n",
            "Epoch 14/20\n",
            "----------\n"
          ]
        },
        {
          "name": "stderr",
          "output_type": "stream",
          "text": [
            "391it [01:09,  5.63it/s]\n"
          ]
        },
        {
          "name": "stdout",
          "output_type": "stream",
          "text": [
            "train Loss: 1.2697 Acc: 0.4657\n",
            "valid Loss: 0.8055 Acc: 0.7458\n",
            "------------------------------\n",
            "\n",
            "Epoch 15/20\n",
            "----------\n"
          ]
        },
        {
          "name": "stderr",
          "output_type": "stream",
          "text": [
            "391it [01:09,  5.60it/s]\n"
          ]
        },
        {
          "name": "stdout",
          "output_type": "stream",
          "text": [
            "train Loss: 1.2540 Acc: 0.4434\n",
            "valid Loss: 0.6484 Acc: 0.8228\n",
            "Saving model...\n",
            "------------------------------\n",
            "\n",
            "Epoch 16/20\n",
            "----------\n"
          ]
        },
        {
          "name": "stderr",
          "output_type": "stream",
          "text": [
            "391it [01:09,  5.66it/s]\n"
          ]
        },
        {
          "name": "stdout",
          "output_type": "stream",
          "text": [
            "train Loss: 1.2353 Acc: 0.4505\n",
            "valid Loss: 0.6364 Acc: 0.8280\n",
            "Saving model...\n",
            "------------------------------\n",
            "\n",
            "Epoch 17/20\n",
            "----------\n"
          ]
        },
        {
          "name": "stderr",
          "output_type": "stream",
          "text": [
            "391it [01:09,  5.65it/s]\n"
          ]
        },
        {
          "name": "stdout",
          "output_type": "stream",
          "text": [
            "train Loss: 1.1815 Acc: 0.4939\n",
            "valid Loss: 0.6453 Acc: 0.8208\n",
            "------------------------------\n",
            "\n",
            "Epoch 18/20\n",
            "----------\n"
          ]
        },
        {
          "name": "stderr",
          "output_type": "stream",
          "text": [
            "391it [01:10,  5.58it/s]\n"
          ]
        },
        {
          "name": "stdout",
          "output_type": "stream",
          "text": [
            "train Loss: 1.2018 Acc: 0.4569\n",
            "valid Loss: 0.6348 Acc: 0.8223\n",
            "------------------------------\n",
            "\n",
            "Epoch 19/20\n",
            "----------\n"
          ]
        },
        {
          "name": "stderr",
          "output_type": "stream",
          "text": [
            "391it [01:09,  5.62it/s]\n"
          ]
        },
        {
          "name": "stdout",
          "output_type": "stream",
          "text": [
            "train Loss: 1.1954 Acc: 0.4496\n",
            "valid Loss: 0.6032 Acc: 0.8435\n",
            "Saving model...\n",
            "------------------------------\n",
            "\n",
            "Epoch 20/20\n",
            "----------\n"
          ]
        },
        {
          "name": "stderr",
          "output_type": "stream",
          "text": [
            "391it [01:09,  5.66it/s]\n"
          ]
        },
        {
          "name": "stdout",
          "output_type": "stream",
          "text": [
            "train Loss: 1.1710 Acc: 0.4958\n",
            "valid Loss: 0.6086 Acc: 0.8405\n",
            "------------------------------\n",
            "\n",
            "Best model saved.\n",
            "Training complete in 25m 3s\n",
            "Best val Acc: 0.843500\n"
          ]
        },
        {
          "data": {
            "text/html": [
              "Waiting for W&B process to finish... <strong style=\"color:green\">(success).</strong>"
            ],
            "text/plain": [
              "<IPython.core.display.HTML object>"
            ]
          },
          "metadata": {},
          "output_type": "display_data"
        },
        {
          "data": {
            "text/html": [
              "<style>\n",
              "    table.wandb td:nth-child(1) { padding: 0 10px; text-align: left ; width: auto;} td:nth-child(2) {text-align: left ; width: 100%}\n",
              "    .wandb-row { display: flex; flex-direction: row; flex-wrap: wrap; justify-content: flex-start; width: 100% }\n",
              "    .wandb-col { display: flex; flex-direction: column; flex-basis: 100%; flex: 1; padding: 10px; }\n",
              "    </style>\n",
              "<div class=\"wandb-row\"><div class=\"wandb-col\"><h3>Run history:</h3><br/><table class=\"wandb\"><tr><td>Train - acc</td><td>▁▂▃▄▄▅▅▆▆▇▆▆▇▇▇▇█▇▇█</td></tr><tr><td>Train - loss</td><td>██▇▇▅▇▆▇▄▅▅▇▆▆▄▄▅▃▃▂▅▅▆▃▃▆▁▅▂▆▅▅▄▅▅▅▁▅▄▅</td></tr><tr><td>Valid - acc</td><td>▁▂▃▃▃▄▅▆▆▆▇▇▇▇██████</td></tr><tr><td>Valid - loss</td><td>█▇▆▆▆▄▄▃▃▃▂▂▁▂▁▁▁▁▁▁</td></tr></table><br/></div><div class=\"wandb-col\"><h3>Run summary:</h3><br/><table class=\"wandb\"><tr><td>Train - acc</td><td>0.49576</td></tr><tr><td>Train - loss</td><td>1.5986</td></tr><tr><td>Valid - acc</td><td>0.8405</td></tr><tr><td>Valid - loss</td><td>0.60859</td></tr></table><br/></div></div>"
            ],
            "text/plain": [
              "<IPython.core.display.HTML object>"
            ]
          },
          "metadata": {},
          "output_type": "display_data"
        },
        {
          "data": {
            "text/html": [
              " View run <strong style=\"color:#cdcd00\">polar-pond-4</strong> at: <a href='https://wandb.ai/ddmaster/INF8225%20-%20Projet%20final/runs/49vsfxv8' target=\"_blank\">https://wandb.ai/ddmaster/INF8225%20-%20Projet%20final/runs/49vsfxv8</a><br/>Synced 5 W&B file(s), 0 media file(s), 2 artifact file(s) and 1 other file(s)"
            ],
            "text/plain": [
              "<IPython.core.display.HTML object>"
            ]
          },
          "metadata": {},
          "output_type": "display_data"
        },
        {
          "data": {
            "text/html": [
              "Find logs at: <code>./wandb/run-20230501_053005-49vsfxv8/logs</code>"
            ],
            "text/plain": [
              "<IPython.core.display.HTML object>"
            ]
          },
          "metadata": {},
          "output_type": "display_data"
        }
      ],
      "source": [
        "config['dataset_name'] = 'CIFAR10'\n",
        "config['model_name'] =  'resnet'\n",
        "config['model_type'] = 'MixUp'\n",
        "model_ft, input_size = initialize_model(config['model_name'], config['dataset_name'] )\n",
        "\n",
        "optimizer = optim.SGD(model_ft.parameters(), lr=config['lr'], momentum=0.9, weight_decay = config['weight_decay'], nesterov = True)\n",
        "scheduler = CosineAnnealingLR(optimizer, T_max = 60, eta_min = 1e-6 )\n",
        "criterion = nn.CrossEntropyLoss()\n",
        "model_ft = model_ft.to(device)\n",
        "\n",
        "with wandb.init(\n",
        "    config=config,\n",
        "    project='Project',\n",
        "    save_code=True,\n",
        "    group='resnet18_cifar10_mixup'):\n",
        "  \n",
        "  model_ft, hist = train_model(\n",
        "      model_ft,\n",
        "      CIFAR10_trainset,\n",
        "      CIFAR10_testset,\n",
        "      criterion,\n",
        "      optimizer,\n",
        "      model_type=config['model_type'],\n",
        "      datasetname=config['dataset_name'],\n",
        "      num_epochs=config['epochs'],\n",
        "      scheduler=scheduler\n",
        "      )\n"
      ]
    },
    {
      "cell_type": "markdown",
      "metadata": {
        "id": "lZvDNv7-QObV"
      },
      "source": [
        "# **Training ResNet-18 + Mix Up on CIFAR-100 Dataset**"
      ]
    },
    {
      "cell_type": "code",
      "execution_count": null,
      "metadata": {
        "colab": {
          "base_uri": "https://localhost:8080/",
          "height": 1000
        },
        "id": "uTuGEPrYAzVt",
        "outputId": "a65f5aab-2672-45a0-b5e9-99c1f0b14c4a"
      },
      "outputs": [
        {
          "data": {
            "text/html": [
              "Tracking run with wandb version 0.15.0"
            ],
            "text/plain": [
              "<IPython.core.display.HTML object>"
            ]
          },
          "metadata": {},
          "output_type": "display_data"
        },
        {
          "data": {
            "text/html": [
              "Run data is saved locally in <code>/content/wandb/run-20230501_055522-wuuahi4u</code>"
            ],
            "text/plain": [
              "<IPython.core.display.HTML object>"
            ]
          },
          "metadata": {},
          "output_type": "display_data"
        },
        {
          "data": {
            "text/html": [
              "Syncing run <strong><a href='https://wandb.ai/ddmaster/INF8225%20-%20Projet%20final/runs/wuuahi4u' target=\"_blank\">gallant-disco-5</a></strong> to <a href='https://wandb.ai/ddmaster/INF8225%20-%20Projet%20final' target=\"_blank\">Weights & Biases</a> (<a href='https://wandb.me/run' target=\"_blank\">docs</a>)<br/>"
            ],
            "text/plain": [
              "<IPython.core.display.HTML object>"
            ]
          },
          "metadata": {},
          "output_type": "display_data"
        },
        {
          "data": {
            "text/html": [
              " View project at <a href='https://wandb.ai/ddmaster/INF8225%20-%20Projet%20final' target=\"_blank\">https://wandb.ai/ddmaster/INF8225%20-%20Projet%20final</a>"
            ],
            "text/plain": [
              "<IPython.core.display.HTML object>"
            ]
          },
          "metadata": {},
          "output_type": "display_data"
        },
        {
          "data": {
            "text/html": [
              " View run at <a href='https://wandb.ai/ddmaster/INF8225%20-%20Projet%20final/runs/wuuahi4u' target=\"_blank\">https://wandb.ai/ddmaster/INF8225%20-%20Projet%20final/runs/wuuahi4u</a>"
            ],
            "text/plain": [
              "<IPython.core.display.HTML object>"
            ]
          },
          "metadata": {},
          "output_type": "display_data"
        },
        {
          "name": "stdout",
          "output_type": "stream",
          "text": [
            "DAmethod -  MixUp\n",
            "Epoch 1/20\n",
            "----------\n"
          ]
        },
        {
          "name": "stderr",
          "output_type": "stream",
          "text": [
            "391it [01:09,  5.64it/s]\n"
          ]
        },
        {
          "name": "stdout",
          "output_type": "stream",
          "text": [
            "train Loss: 4.2514 Acc: 0.0509\n",
            "valid Loss: 3.7574 Acc: 0.1166\n",
            "Saving model...\n",
            "------------------------------\n",
            "\n",
            "Epoch 2/20\n",
            "----------\n"
          ]
        },
        {
          "name": "stderr",
          "output_type": "stream",
          "text": [
            "391it [01:09,  5.62it/s]\n"
          ]
        },
        {
          "name": "stdout",
          "output_type": "stream",
          "text": [
            "train Loss: 3.8943 Acc: 0.0797\n",
            "valid Loss: 3.2231 Acc: 0.2081\n",
            "Saving model...\n",
            "------------------------------\n",
            "\n",
            "Epoch 3/20\n",
            "----------\n"
          ]
        },
        {
          "name": "stderr",
          "output_type": "stream",
          "text": [
            "391it [01:10,  5.53it/s]\n"
          ]
        },
        {
          "name": "stdout",
          "output_type": "stream",
          "text": [
            "train Loss: 3.6441 Acc: 0.1169\n",
            "valid Loss: 2.9389 Acc: 0.2712\n",
            "Saving model...\n",
            "------------------------------\n",
            "\n",
            "Epoch 4/20\n",
            "----------\n"
          ]
        },
        {
          "name": "stderr",
          "output_type": "stream",
          "text": [
            "391it [01:09,  5.62it/s]\n"
          ]
        },
        {
          "name": "stdout",
          "output_type": "stream",
          "text": [
            "train Loss: 3.3886 Acc: 0.1503\n",
            "valid Loss: 2.5053 Acc: 0.3628\n",
            "Saving model...\n",
            "------------------------------\n",
            "\n",
            "Epoch 5/20\n",
            "----------\n"
          ]
        },
        {
          "name": "stderr",
          "output_type": "stream",
          "text": [
            "391it [01:09,  5.64it/s]\n"
          ]
        },
        {
          "name": "stdout",
          "output_type": "stream",
          "text": [
            "train Loss: 3.2065 Acc: 0.1675\n",
            "valid Loss: 2.3129 Acc: 0.4034\n",
            "Saving model...\n",
            "------------------------------\n",
            "\n",
            "Epoch 6/20\n",
            "----------\n"
          ]
        },
        {
          "name": "stderr",
          "output_type": "stream",
          "text": [
            "391it [01:09,  5.61it/s]\n"
          ]
        },
        {
          "name": "stdout",
          "output_type": "stream",
          "text": [
            "train Loss: 3.1322 Acc: 0.2026\n",
            "valid Loss: 2.2106 Acc: 0.4287\n",
            "Saving model...\n",
            "------------------------------\n",
            "\n",
            "Epoch 7/20\n",
            "----------\n"
          ]
        },
        {
          "name": "stderr",
          "output_type": "stream",
          "text": [
            "391it [01:09,  5.65it/s]\n"
          ]
        },
        {
          "name": "stdout",
          "output_type": "stream",
          "text": [
            "train Loss: 3.0460 Acc: 0.2053\n",
            "valid Loss: 2.1892 Acc: 0.4274\n",
            "------------------------------\n",
            "\n",
            "Epoch 8/20\n",
            "----------\n"
          ]
        },
        {
          "name": "stderr",
          "output_type": "stream",
          "text": [
            "391it [01:09,  5.66it/s]\n"
          ]
        },
        {
          "name": "stdout",
          "output_type": "stream",
          "text": [
            "train Loss: 2.8451 Acc: 0.2275\n",
            "valid Loss: 1.9515 Acc: 0.4962\n",
            "Saving model...\n",
            "------------------------------\n",
            "\n",
            "Epoch 9/20\n",
            "----------\n"
          ]
        },
        {
          "name": "stderr",
          "output_type": "stream",
          "text": [
            "391it [01:10,  5.58it/s]\n"
          ]
        },
        {
          "name": "stdout",
          "output_type": "stream",
          "text": [
            "train Loss: 2.7686 Acc: 0.2197\n",
            "valid Loss: 1.8396 Acc: 0.5258\n",
            "Saving model...\n",
            "------------------------------\n",
            "\n",
            "Epoch 10/20\n",
            "----------\n"
          ]
        },
        {
          "name": "stderr",
          "output_type": "stream",
          "text": [
            "391it [01:09,  5.64it/s]\n"
          ]
        },
        {
          "name": "stdout",
          "output_type": "stream",
          "text": [
            "train Loss: 2.6821 Acc: 0.2719\n",
            "valid Loss: 1.8010 Acc: 0.5273\n",
            "Saving model...\n",
            "------------------------------\n",
            "\n",
            "Epoch 11/20\n",
            "----------\n"
          ]
        },
        {
          "name": "stderr",
          "output_type": "stream",
          "text": [
            "391it [01:10,  5.55it/s]\n"
          ]
        },
        {
          "name": "stdout",
          "output_type": "stream",
          "text": [
            "train Loss: 2.6875 Acc: 0.2694\n",
            "valid Loss: 1.7351 Acc: 0.5464\n",
            "Saving model...\n",
            "------------------------------\n",
            "\n",
            "Epoch 12/20\n",
            "----------\n"
          ]
        },
        {
          "name": "stderr",
          "output_type": "stream",
          "text": [
            "391it [01:09,  5.66it/s]\n"
          ]
        },
        {
          "name": "stdout",
          "output_type": "stream",
          "text": [
            "train Loss: 2.6419 Acc: 0.2720\n",
            "valid Loss: 1.7527 Acc: 0.5533\n",
            "Saving model...\n",
            "------------------------------\n",
            "\n",
            "Epoch 13/20\n",
            "----------\n"
          ]
        },
        {
          "name": "stderr",
          "output_type": "stream",
          "text": [
            "391it [01:09,  5.62it/s]\n"
          ]
        },
        {
          "name": "stdout",
          "output_type": "stream",
          "text": [
            "train Loss: 2.5740 Acc: 0.2977\n",
            "valid Loss: 1.6171 Acc: 0.5814\n",
            "Saving model...\n",
            "------------------------------\n",
            "\n",
            "Epoch 14/20\n",
            "----------\n"
          ]
        },
        {
          "name": "stderr",
          "output_type": "stream",
          "text": [
            "391it [01:10,  5.57it/s]\n"
          ]
        },
        {
          "name": "stdout",
          "output_type": "stream",
          "text": [
            "train Loss: 2.5117 Acc: 0.2874\n",
            "valid Loss: 1.6192 Acc: 0.5855\n",
            "Saving model...\n",
            "------------------------------\n",
            "\n",
            "Epoch 15/20\n",
            "----------\n"
          ]
        },
        {
          "name": "stderr",
          "output_type": "stream",
          "text": [
            "391it [01:09,  5.62it/s]\n"
          ]
        },
        {
          "name": "stdout",
          "output_type": "stream",
          "text": [
            "train Loss: 2.5172 Acc: 0.2907\n",
            "valid Loss: 1.5287 Acc: 0.6055\n",
            "Saving model...\n",
            "------------------------------\n",
            "\n",
            "Epoch 16/20\n",
            "----------\n"
          ]
        },
        {
          "name": "stderr",
          "output_type": "stream",
          "text": [
            "391it [01:09,  5.59it/s]\n"
          ]
        },
        {
          "name": "stdout",
          "output_type": "stream",
          "text": [
            "train Loss: 2.4336 Acc: 0.3232\n",
            "valid Loss: 1.4554 Acc: 0.6153\n",
            "Saving model...\n",
            "------------------------------\n",
            "\n",
            "Epoch 17/20\n",
            "----------\n"
          ]
        },
        {
          "name": "stderr",
          "output_type": "stream",
          "text": [
            "391it [01:10,  5.55it/s]\n"
          ]
        },
        {
          "name": "stdout",
          "output_type": "stream",
          "text": [
            "train Loss: 2.4354 Acc: 0.3369\n",
            "valid Loss: 1.5405 Acc: 0.5973\n",
            "------------------------------\n",
            "\n",
            "Epoch 18/20\n",
            "----------\n"
          ]
        },
        {
          "name": "stderr",
          "output_type": "stream",
          "text": [
            "391it [01:09,  5.62it/s]\n"
          ]
        },
        {
          "name": "stdout",
          "output_type": "stream",
          "text": [
            "train Loss: 2.3297 Acc: 0.3253\n",
            "valid Loss: 1.4946 Acc: 0.6211\n",
            "Saving model...\n",
            "------------------------------\n",
            "\n",
            "Epoch 19/20\n",
            "----------\n"
          ]
        },
        {
          "name": "stderr",
          "output_type": "stream",
          "text": [
            "391it [01:09,  5.61it/s]\n"
          ]
        },
        {
          "name": "stdout",
          "output_type": "stream",
          "text": [
            "train Loss: 2.3605 Acc: 0.3318\n",
            "valid Loss: 1.4690 Acc: 0.6296\n",
            "Saving model...\n",
            "------------------------------\n",
            "\n",
            "Epoch 20/20\n",
            "----------\n"
          ]
        },
        {
          "name": "stderr",
          "output_type": "stream",
          "text": [
            "391it [01:10,  5.55it/s]\n"
          ]
        },
        {
          "name": "stdout",
          "output_type": "stream",
          "text": [
            "train Loss: 2.3192 Acc: 0.3451\n",
            "valid Loss: 1.3766 Acc: 0.6472\n",
            "Saving model...\n",
            "------------------------------\n",
            "\n",
            "Best model saved.\n",
            "Training complete in 25m 1s\n",
            "Best val Acc: 0.647200\n"
          ]
        },
        {
          "data": {
            "text/html": [
              "Waiting for W&B process to finish... <strong style=\"color:green\">(success).</strong>"
            ],
            "text/plain": [
              "<IPython.core.display.HTML object>"
            ]
          },
          "metadata": {},
          "output_type": "display_data"
        },
        {
          "data": {
            "text/html": [
              "<style>\n",
              "    table.wandb td:nth-child(1) { padding: 0 10px; text-align: left ; width: auto;} td:nth-child(2) {text-align: left ; width: 100%}\n",
              "    .wandb-row { display: flex; flex-direction: row; flex-wrap: wrap; justify-content: flex-start; width: 100% }\n",
              "    .wandb-col { display: flex; flex-direction: column; flex-basis: 100%; flex: 1; padding: 10px; }\n",
              "    </style>\n",
              "<div class=\"wandb-row\"><div class=\"wandb-col\"><h3>Run history:</h3><br/><table class=\"wandb\"><tr><td>Train - acc</td><td>▁▂▃▃▄▅▅▅▅▆▆▆▇▇▇▇████</td></tr><tr><td>Train - loss</td><td>█▇█▇▇▅▅▅▄▃▄▆▆▅▆▅▃▃▄▄▅▆▁▆▅▄▃▂▃▃▅▃▅▂▅▁▅▅▂▄</td></tr><tr><td>Valid - acc</td><td>▁▂▃▄▅▅▅▆▆▆▇▇▇▇▇█▇███</td></tr><tr><td>Valid - loss</td><td>█▆▆▄▄▃▃▃▂▂▂▂▂▂▁▁▁▁▁▁</td></tr></table><br/></div><div class=\"wandb-col\"><h3>Run summary:</h3><br/><table class=\"wandb\"><tr><td>Train - acc</td><td>0.3451</td></tr><tr><td>Train - loss</td><td>2.73077</td></tr><tr><td>Valid - acc</td><td>0.6472</td></tr><tr><td>Valid - loss</td><td>1.37655</td></tr></table><br/></div></div>"
            ],
            "text/plain": [
              "<IPython.core.display.HTML object>"
            ]
          },
          "metadata": {},
          "output_type": "display_data"
        },
        {
          "data": {
            "text/html": [
              " View run <strong style=\"color:#cdcd00\">gallant-disco-5</strong> at: <a href='https://wandb.ai/ddmaster/INF8225%20-%20Projet%20final/runs/wuuahi4u' target=\"_blank\">https://wandb.ai/ddmaster/INF8225%20-%20Projet%20final/runs/wuuahi4u</a><br/>Synced 5 W&B file(s), 0 media file(s), 2 artifact file(s) and 1 other file(s)"
            ],
            "text/plain": [
              "<IPython.core.display.HTML object>"
            ]
          },
          "metadata": {},
          "output_type": "display_data"
        },
        {
          "data": {
            "text/html": [
              "Find logs at: <code>./wandb/run-20230501_055522-wuuahi4u/logs</code>"
            ],
            "text/plain": [
              "<IPython.core.display.HTML object>"
            ]
          },
          "metadata": {},
          "output_type": "display_data"
        }
      ],
      "source": [
        "config['dataset_name'] = 'CIFAR100'\n",
        "config['model_name'] =  'resnet'\n",
        "config['model_type'] = 'MixUp'\n",
        "model_ft, input_size = initialize_model(config['model_name'], config['dataset_name'] )\n",
        "optimizer = optim.SGD(model_ft.parameters(), lr=config['lr'], momentum=0.9, weight_decay = config['weight_decay'], nesterov = True)\n",
        "scheduler = CosineAnnealingLR(optimizer, T_max = 60, eta_min = 1e-6 )\n",
        "criterion = nn.CrossEntropyLoss()\n",
        "model_ft = model_ft.to(device)\n",
        "\n",
        "with wandb.init(\n",
        "    config=config,\n",
        "    project='Project',\n",
        "    save_code=True,\n",
        "    group='resnet18_cifar100_mixup'):\n",
        "  \n",
        "    model_ft, hist = train_model(\n",
        "      model_ft,\n",
        "      CIFAR100_trainset,\n",
        "      CIFAR100_testset,\n",
        "      criterion,\n",
        "      optimizer,\n",
        "      model_type=config['model_type'],\n",
        "      datasetname=config['dataset_name'],\n",
        "      num_epochs=config['epochs'],\n",
        "      scheduler=scheduler\n",
        "      )\n",
        "\n",
        "\n",
        "     "
      ]
    },
    {
      "cell_type": "markdown",
      "metadata": {
        "id": "voCSmtx7A9dk"
      },
      "source": [
        "# **Cut Mix**"
      ]
    },
    {
      "cell_type": "code",
      "execution_count": null,
      "metadata": {
        "id": "LdM-UTjBBAmo"
      },
      "outputs": [],
      "source": [
        "def cutmix(inputs, labels, alpha):\n",
        "  batch_size = inputs.size(0)\n",
        "  shuffled_batch = torch.randperm(batch_size).to(config['device'])\n",
        "  second_inputs = inputs[shuffled_batch]\n",
        "  second_labels = labels[shuffled_batch]\n",
        "  lam = np.random.beta(alpha, alpha)\n",
        "  \n",
        "  mixup_inputs = torch.clone(inputs)\n",
        "  W = mixup_inputs.size(2)\n",
        "  H = mixup_inputs.size(3)\n",
        "\n",
        "  for i in range(batch_size):\n",
        "    height = int(W*np.sqrt(1-lam)) \n",
        "    width = int(H*np.sqrt(1-lam))\n",
        "    randx = np.random.randint(0,W-width)\n",
        "    randy = np.random.randint(0,H-height)\n",
        "\n",
        "    mixup_inputs[i,:,randy:randy + height,randx:randx + width] = second_inputs[i,:,randy:randy + height,randx:randx + width]\n",
        "\n",
        "  return mixup_inputs, labels, second_labels, lam\n",
        "\n",
        "def mixup_criterion(criterion, output, original_labels, shuffled_labels, lam):\n",
        "    return lam * criterion(output, original_labels) + (1 - lam) * criterion(output, shuffled_labels)"
      ]
    },
    {
      "cell_type": "markdown",
      "metadata": {
        "id": "BUIeX1iER2ZR"
      },
      "source": [
        "# **Training ResNet-18 + CutMix on CIFAR-10 Dataset**"
      ]
    },
    {
      "cell_type": "code",
      "execution_count": null,
      "metadata": {
        "colab": {
          "base_uri": "https://localhost:8080/",
          "height": 1000
        },
        "id": "xkIysMK4Rpg2",
        "outputId": "5bb854bb-1bae-439a-a533-499138a56c25"
      },
      "outputs": [
        {
          "data": {
            "text/html": [
              "Tracking run with wandb version 0.15.0"
            ],
            "text/plain": [
              "<IPython.core.display.HTML object>"
            ]
          },
          "metadata": {},
          "output_type": "display_data"
        },
        {
          "data": {
            "text/html": [
              "Run data is saved locally in <code>/content/wandb/run-20230501_062038-qe084eie</code>"
            ],
            "text/plain": [
              "<IPython.core.display.HTML object>"
            ]
          },
          "metadata": {},
          "output_type": "display_data"
        },
        {
          "data": {
            "text/html": [
              "Syncing run <strong><a href='https://wandb.ai/ddmaster/INF8225%20-%20Projet%20final/runs/qe084eie' target=\"_blank\">stellar-tree-6</a></strong> to <a href='https://wandb.ai/ddmaster/INF8225%20-%20Projet%20final' target=\"_blank\">Weights & Biases</a> (<a href='https://wandb.me/run' target=\"_blank\">docs</a>)<br/>"
            ],
            "text/plain": [
              "<IPython.core.display.HTML object>"
            ]
          },
          "metadata": {},
          "output_type": "display_data"
        },
        {
          "data": {
            "text/html": [
              " View project at <a href='https://wandb.ai/ddmaster/INF8225%20-%20Projet%20final' target=\"_blank\">https://wandb.ai/ddmaster/INF8225%20-%20Projet%20final</a>"
            ],
            "text/plain": [
              "<IPython.core.display.HTML object>"
            ]
          },
          "metadata": {},
          "output_type": "display_data"
        },
        {
          "data": {
            "text/html": [
              " View run at <a href='https://wandb.ai/ddmaster/INF8225%20-%20Projet%20final/runs/qe084eie' target=\"_blank\">https://wandb.ai/ddmaster/INF8225%20-%20Projet%20final/runs/qe084eie</a>"
            ],
            "text/plain": [
              "<IPython.core.display.HTML object>"
            ]
          },
          "metadata": {},
          "output_type": "display_data"
        },
        {
          "name": "stdout",
          "output_type": "stream",
          "text": [
            "DAmethod -  CutMix\n",
            "Epoch 1/20\n",
            "----------\n"
          ]
        },
        {
          "name": "stderr",
          "output_type": "stream",
          "text": [
            "391it [01:12,  5.41it/s]\n"
          ]
        },
        {
          "name": "stdout",
          "output_type": "stream",
          "text": [
            "train Loss: 2.1714 Acc: 0.1787\n",
            "valid Loss: 1.6815 Acc: 0.3771\n",
            "Saving model...\n",
            "------------------------------\n",
            "\n",
            "Epoch 2/20\n",
            "----------\n"
          ]
        },
        {
          "name": "stderr",
          "output_type": "stream",
          "text": [
            "391it [01:12,  5.36it/s]\n"
          ]
        },
        {
          "name": "stdout",
          "output_type": "stream",
          "text": [
            "train Loss: 1.8696 Acc: 0.2451\n",
            "valid Loss: 1.3753 Acc: 0.5042\n",
            "Saving model...\n",
            "------------------------------\n",
            "\n",
            "Epoch 3/20\n",
            "----------\n"
          ]
        },
        {
          "name": "stderr",
          "output_type": "stream",
          "text": [
            "391it [01:11,  5.44it/s]\n"
          ]
        },
        {
          "name": "stdout",
          "output_type": "stream",
          "text": [
            "train Loss: 1.7334 Acc: 0.2757\n",
            "valid Loss: 1.3262 Acc: 0.5273\n",
            "Saving model...\n",
            "------------------------------\n",
            "\n",
            "Epoch 4/20\n",
            "----------\n"
          ]
        },
        {
          "name": "stderr",
          "output_type": "stream",
          "text": [
            "391it [01:11,  5.45it/s]\n"
          ]
        },
        {
          "name": "stdout",
          "output_type": "stream",
          "text": [
            "train Loss: 1.6351 Acc: 0.3061\n",
            "valid Loss: 1.1361 Acc: 0.6111\n",
            "Saving model...\n",
            "------------------------------\n",
            "\n",
            "Epoch 5/20\n",
            "----------\n"
          ]
        },
        {
          "name": "stderr",
          "output_type": "stream",
          "text": [
            "391it [01:12,  5.40it/s]\n"
          ]
        },
        {
          "name": "stdout",
          "output_type": "stream",
          "text": [
            "train Loss: 1.5625 Acc: 0.3188\n",
            "valid Loss: 1.2280 Acc: 0.5651\n",
            "------------------------------\n",
            "\n",
            "Epoch 6/20\n",
            "----------\n"
          ]
        },
        {
          "name": "stderr",
          "output_type": "stream",
          "text": [
            "391it [01:11,  5.47it/s]\n"
          ]
        },
        {
          "name": "stdout",
          "output_type": "stream",
          "text": [
            "train Loss: 1.5297 Acc: 0.3429\n",
            "valid Loss: 0.9582 Acc: 0.6799\n",
            "Saving model...\n",
            "------------------------------\n",
            "\n",
            "Epoch 7/20\n",
            "----------\n"
          ]
        },
        {
          "name": "stderr",
          "output_type": "stream",
          "text": [
            "391it [01:11,  5.47it/s]\n"
          ]
        },
        {
          "name": "stdout",
          "output_type": "stream",
          "text": [
            "train Loss: 1.4986 Acc: 0.3367\n",
            "valid Loss: 0.8671 Acc: 0.7136\n",
            "Saving model...\n",
            "------------------------------\n",
            "\n",
            "Epoch 8/20\n",
            "----------\n"
          ]
        },
        {
          "name": "stderr",
          "output_type": "stream",
          "text": [
            "391it [01:12,  5.41it/s]\n"
          ]
        },
        {
          "name": "stdout",
          "output_type": "stream",
          "text": [
            "train Loss: 1.4027 Acc: 0.3816\n",
            "valid Loss: 0.7355 Acc: 0.7587\n",
            "Saving model...\n",
            "------------------------------\n",
            "\n",
            "Epoch 9/20\n",
            "----------\n"
          ]
        },
        {
          "name": "stderr",
          "output_type": "stream",
          "text": [
            "391it [01:11,  5.48it/s]\n"
          ]
        },
        {
          "name": "stdout",
          "output_type": "stream",
          "text": [
            "train Loss: 1.3862 Acc: 0.3812\n",
            "valid Loss: 0.8145 Acc: 0.7391\n",
            "------------------------------\n",
            "\n",
            "Epoch 10/20\n",
            "----------\n"
          ]
        },
        {
          "name": "stderr",
          "output_type": "stream",
          "text": [
            "391it [01:11,  5.48it/s]\n"
          ]
        },
        {
          "name": "stdout",
          "output_type": "stream",
          "text": [
            "train Loss: 1.3203 Acc: 0.3735\n",
            "valid Loss: 0.7636 Acc: 0.7545\n",
            "------------------------------\n",
            "\n",
            "Epoch 11/20\n",
            "----------\n"
          ]
        },
        {
          "name": "stderr",
          "output_type": "stream",
          "text": [
            "391it [01:12,  5.43it/s]\n"
          ]
        },
        {
          "name": "stdout",
          "output_type": "stream",
          "text": [
            "train Loss: 1.3125 Acc: 0.3757\n",
            "valid Loss: 0.6791 Acc: 0.7901\n",
            "Saving model...\n",
            "------------------------------\n",
            "\n",
            "Epoch 12/20\n",
            "----------\n"
          ]
        },
        {
          "name": "stderr",
          "output_type": "stream",
          "text": [
            "391it [01:11,  5.47it/s]\n"
          ]
        },
        {
          "name": "stdout",
          "output_type": "stream",
          "text": [
            "train Loss: 1.2689 Acc: 0.3859\n",
            "valid Loss: 0.6042 Acc: 0.8280\n",
            "Saving model...\n",
            "------------------------------\n",
            "\n",
            "Epoch 13/20\n",
            "----------\n"
          ]
        },
        {
          "name": "stderr",
          "output_type": "stream",
          "text": [
            "391it [01:11,  5.48it/s]\n"
          ]
        },
        {
          "name": "stdout",
          "output_type": "stream",
          "text": [
            "train Loss: 1.2620 Acc: 0.3872\n",
            "valid Loss: 0.6067 Acc: 0.8207\n",
            "------------------------------\n",
            "\n",
            "Epoch 14/20\n",
            "----------\n"
          ]
        },
        {
          "name": "stderr",
          "output_type": "stream",
          "text": [
            "391it [01:11,  5.47it/s]\n"
          ]
        },
        {
          "name": "stdout",
          "output_type": "stream",
          "text": [
            "train Loss: 1.2015 Acc: 0.3731\n",
            "valid Loss: 0.6228 Acc: 0.8093\n",
            "------------------------------\n",
            "\n",
            "Epoch 15/20\n",
            "----------\n"
          ]
        },
        {
          "name": "stderr",
          "output_type": "stream",
          "text": [
            "391it [01:11,  5.46it/s]\n"
          ]
        },
        {
          "name": "stdout",
          "output_type": "stream",
          "text": [
            "train Loss: 1.2262 Acc: 0.3980\n",
            "valid Loss: 0.5482 Acc: 0.8459\n",
            "Saving model...\n",
            "------------------------------\n",
            "\n",
            "Epoch 16/20\n",
            "----------\n"
          ]
        },
        {
          "name": "stderr",
          "output_type": "stream",
          "text": [
            "391it [01:11,  5.43it/s]\n"
          ]
        },
        {
          "name": "stdout",
          "output_type": "stream",
          "text": [
            "train Loss: 1.1800 Acc: 0.4081\n",
            "valid Loss: 0.6146 Acc: 0.8304\n",
            "------------------------------\n",
            "\n",
            "Epoch 17/20\n",
            "----------\n"
          ]
        },
        {
          "name": "stderr",
          "output_type": "stream",
          "text": [
            "391it [01:11,  5.47it/s]\n"
          ]
        },
        {
          "name": "stdout",
          "output_type": "stream",
          "text": [
            "train Loss: 1.1649 Acc: 0.4130\n",
            "valid Loss: 0.4880 Acc: 0.8531\n",
            "Saving model...\n",
            "------------------------------\n",
            "\n",
            "Epoch 18/20\n",
            "----------\n"
          ]
        },
        {
          "name": "stderr",
          "output_type": "stream",
          "text": [
            "391it [01:11,  5.47it/s]\n"
          ]
        },
        {
          "name": "stdout",
          "output_type": "stream",
          "text": [
            "train Loss: 1.1662 Acc: 0.4190\n",
            "valid Loss: 0.5470 Acc: 0.8470\n",
            "------------------------------\n",
            "\n",
            "Epoch 19/20\n",
            "----------\n"
          ]
        },
        {
          "name": "stderr",
          "output_type": "stream",
          "text": [
            "391it [01:12,  5.41it/s]\n"
          ]
        },
        {
          "name": "stdout",
          "output_type": "stream",
          "text": [
            "train Loss: 1.1281 Acc: 0.4045\n",
            "valid Loss: 0.4870 Acc: 0.8686\n",
            "Saving model...\n",
            "------------------------------\n",
            "\n",
            "Epoch 20/20\n",
            "----------\n"
          ]
        },
        {
          "name": "stderr",
          "output_type": "stream",
          "text": [
            "391it [01:11,  5.47it/s]\n"
          ]
        },
        {
          "name": "stdout",
          "output_type": "stream",
          "text": [
            "train Loss: 1.1227 Acc: 0.3951\n",
            "valid Loss: 0.5426 Acc: 0.8453\n",
            "------------------------------\n",
            "\n",
            "Best model saved.\n",
            "Training complete in 25m 44s\n",
            "Best val Acc: 0.868600\n"
          ]
        },
        {
          "data": {
            "text/html": [
              "Waiting for W&B process to finish... <strong style=\"color:green\">(success).</strong>"
            ],
            "text/plain": [
              "<IPython.core.display.HTML object>"
            ]
          },
          "metadata": {},
          "output_type": "display_data"
        },
        {
          "data": {
            "text/html": [
              "<style>\n",
              "    table.wandb td:nth-child(1) { padding: 0 10px; text-align: left ; width: auto;} td:nth-child(2) {text-align: left ; width: 100%}\n",
              "    .wandb-row { display: flex; flex-direction: row; flex-wrap: wrap; justify-content: flex-start; width: 100% }\n",
              "    .wandb-col { display: flex; flex-direction: column; flex-basis: 100%; flex: 1; padding: 10px; }\n",
              "    </style>\n",
              "<div class=\"wandb-row\"><div class=\"wandb-col\"><h3>Run history:</h3><br/><table class=\"wandb\"><tr><td>Train - acc</td><td>▁▃▄▅▅▆▆▇▇▇▇▇▇▇▇████▇</td></tr><tr><td>Train - loss</td><td>█▇▆▆▆▅▅▆▆▆▅▆▅▆▃▃▄▄▃▂▅▄▂▅▅▃▁▄▅▂▃▅▄▃▂▃▅▅▃▅</td></tr><tr><td>Valid - acc</td><td>▁▃▃▄▄▅▆▆▆▆▇▇▇▇█▇████</td></tr><tr><td>Valid - loss</td><td>█▆▆▅▅▄▃▂▃▃▂▂▂▂▁▂▁▁▁▁</td></tr></table><br/></div><div class=\"wandb-col\"><h3>Run summary:</h3><br/><table class=\"wandb\"><tr><td>Train - acc</td><td>0.39508</td></tr><tr><td>Train - loss</td><td>1.51644</td></tr><tr><td>Valid - acc</td><td>0.8453</td></tr><tr><td>Valid - loss</td><td>0.54261</td></tr></table><br/></div></div>"
            ],
            "text/plain": [
              "<IPython.core.display.HTML object>"
            ]
          },
          "metadata": {},
          "output_type": "display_data"
        },
        {
          "data": {
            "text/html": [
              " View run <strong style=\"color:#cdcd00\">stellar-tree-6</strong> at: <a href='https://wandb.ai/ddmaster/INF8225%20-%20Projet%20final/runs/qe084eie' target=\"_blank\">https://wandb.ai/ddmaster/INF8225%20-%20Projet%20final/runs/qe084eie</a><br/>Synced 5 W&B file(s), 0 media file(s), 2 artifact file(s) and 1 other file(s)"
            ],
            "text/plain": [
              "<IPython.core.display.HTML object>"
            ]
          },
          "metadata": {},
          "output_type": "display_data"
        },
        {
          "data": {
            "text/html": [
              "Find logs at: <code>./wandb/run-20230501_062038-qe084eie/logs</code>"
            ],
            "text/plain": [
              "<IPython.core.display.HTML object>"
            ]
          },
          "metadata": {},
          "output_type": "display_data"
        }
      ],
      "source": [
        "config['dataset_name'] = 'CIFAR10'\n",
        "config['model_name'] =  'resnet'\n",
        "config['model_type'] = 'CutMix'\n",
        "model_ft, input_size = initialize_model('resnet', 'CIFAR10')\n",
        "optimizer = optim.SGD(model_ft.parameters(), lr=config['lr'], momentum=0.9, weight_decay = config['weight_decay'], nesterov = True)\n",
        "scheduler = CosineAnnealingLR(optimizer, T_max = 60, eta_min = 1e-6 )\n",
        "criterion = nn.CrossEntropyLoss()\n",
        "model_ft = model_ft.to(device)\n",
        "\n",
        "with wandb.init(\n",
        "    config=config,\n",
        "    project='Project',\n",
        "    save_code=True,\n",
        "    group='resnet18_cifar10_cutmix'):\n",
        "  model_ft, hist = train_model(\n",
        "      model_ft,\n",
        "      CIFAR10_trainset,\n",
        "      CIFAR10_testset,\n",
        "      criterion,\n",
        "      optimizer,\n",
        "      model_type=config['model_type'],\n",
        "      datasetname=config['dataset_name'],\n",
        "      num_epochs=config['epochs'],\n",
        "      scheduler=scheduler\n",
        "      )"
      ]
    },
    {
      "cell_type": "markdown",
      "metadata": {
        "id": "0OWki5RQR69s"
      },
      "source": [
        "# **Training ResNet-18 + CutMix on CIFAR-100 Dataset**"
      ]
    },
    {
      "cell_type": "code",
      "execution_count": null,
      "metadata": {
        "colab": {
          "base_uri": "https://localhost:8080/",
          "height": 1000
        },
        "id": "M_OrRGnzRohV",
        "outputId": "9797de83-9e9f-48e7-eb69-5790c5c7bd90"
      },
      "outputs": [
        {
          "data": {
            "text/html": [
              "Tracking run with wandb version 0.15.0"
            ],
            "text/plain": [
              "<IPython.core.display.HTML object>"
            ]
          },
          "metadata": {},
          "output_type": "display_data"
        },
        {
          "data": {
            "text/html": [
              "Run data is saved locally in <code>/content/wandb/run-20230501_064638-pvm0gcyw</code>"
            ],
            "text/plain": [
              "<IPython.core.display.HTML object>"
            ]
          },
          "metadata": {},
          "output_type": "display_data"
        },
        {
          "data": {
            "text/html": [
              "Syncing run <strong><a href='https://wandb.ai/ddmaster/INF8225%20-%20Projet%20final/runs/pvm0gcyw' target=\"_blank\">visionary-shadow-7</a></strong> to <a href='https://wandb.ai/ddmaster/INF8225%20-%20Projet%20final' target=\"_blank\">Weights & Biases</a> (<a href='https://wandb.me/run' target=\"_blank\">docs</a>)<br/>"
            ],
            "text/plain": [
              "<IPython.core.display.HTML object>"
            ]
          },
          "metadata": {},
          "output_type": "display_data"
        },
        {
          "data": {
            "text/html": [
              " View project at <a href='https://wandb.ai/ddmaster/INF8225%20-%20Projet%20final' target=\"_blank\">https://wandb.ai/ddmaster/INF8225%20-%20Projet%20final</a>"
            ],
            "text/plain": [
              "<IPython.core.display.HTML object>"
            ]
          },
          "metadata": {},
          "output_type": "display_data"
        },
        {
          "data": {
            "text/html": [
              " View run at <a href='https://wandb.ai/ddmaster/INF8225%20-%20Projet%20final/runs/pvm0gcyw' target=\"_blank\">https://wandb.ai/ddmaster/INF8225%20-%20Projet%20final/runs/pvm0gcyw</a>"
            ],
            "text/plain": [
              "<IPython.core.display.HTML object>"
            ]
          },
          "metadata": {},
          "output_type": "display_data"
        },
        {
          "name": "stdout",
          "output_type": "stream",
          "text": [
            "DAmethod -  CutMix\n",
            "Epoch 1/20\n",
            "----------\n"
          ]
        },
        {
          "name": "stderr",
          "output_type": "stream",
          "text": [
            "391it [01:11,  5.44it/s]\n"
          ]
        },
        {
          "name": "stdout",
          "output_type": "stream",
          "text": [
            "train Loss: 4.2562 Acc: 0.0379\n",
            "valid Loss: 3.6775 Acc: 0.1310\n",
            "Saving model...\n",
            "------------------------------\n",
            "\n",
            "Epoch 2/20\n",
            "----------\n"
          ]
        },
        {
          "name": "stderr",
          "output_type": "stream",
          "text": [
            "391it [01:12,  5.42it/s]\n"
          ]
        },
        {
          "name": "stdout",
          "output_type": "stream",
          "text": [
            "train Loss: 3.9412 Acc: 0.0669\n",
            "valid Loss: 3.4524 Acc: 0.1708\n",
            "Saving model...\n",
            "------------------------------\n",
            "\n",
            "Epoch 3/20\n",
            "----------\n"
          ]
        },
        {
          "name": "stderr",
          "output_type": "stream",
          "text": [
            "391it [01:11,  5.46it/s]\n"
          ]
        },
        {
          "name": "stdout",
          "output_type": "stream",
          "text": [
            "train Loss: 3.7339 Acc: 0.0914\n",
            "valid Loss: 3.0207 Acc: 0.2496\n",
            "Saving model...\n",
            "------------------------------\n",
            "\n",
            "Epoch 4/20\n",
            "----------\n"
          ]
        },
        {
          "name": "stderr",
          "output_type": "stream",
          "text": [
            "391it [01:11,  5.45it/s]\n"
          ]
        },
        {
          "name": "stdout",
          "output_type": "stream",
          "text": [
            "train Loss: 3.5262 Acc: 0.1065\n",
            "valid Loss: 2.7094 Acc: 0.3149\n",
            "Saving model...\n",
            "------------------------------\n",
            "\n",
            "Epoch 5/20\n",
            "----------\n"
          ]
        },
        {
          "name": "stderr",
          "output_type": "stream",
          "text": [
            "391it [01:11,  5.48it/s]\n"
          ]
        },
        {
          "name": "stdout",
          "output_type": "stream",
          "text": [
            "train Loss: 3.3303 Acc: 0.1302\n",
            "valid Loss: 2.4198 Acc: 0.3748\n",
            "Saving model...\n",
            "------------------------------\n",
            "\n",
            "Epoch 6/20\n",
            "----------\n"
          ]
        },
        {
          "name": "stderr",
          "output_type": "stream",
          "text": [
            "391it [01:11,  5.49it/s]\n"
          ]
        },
        {
          "name": "stdout",
          "output_type": "stream",
          "text": [
            "train Loss: 3.2006 Acc: 0.1435\n",
            "valid Loss: 2.3566 Acc: 0.3918\n",
            "Saving model...\n",
            "------------------------------\n",
            "\n",
            "Epoch 7/20\n",
            "----------\n"
          ]
        },
        {
          "name": "stderr",
          "output_type": "stream",
          "text": [
            "391it [01:12,  5.40it/s]\n"
          ]
        },
        {
          "name": "stdout",
          "output_type": "stream",
          "text": [
            "train Loss: 3.0310 Acc: 0.1668\n",
            "valid Loss: 2.1074 Acc: 0.4414\n",
            "Saving model...\n",
            "------------------------------\n",
            "\n",
            "Epoch 8/20\n",
            "----------\n"
          ]
        },
        {
          "name": "stderr",
          "output_type": "stream",
          "text": [
            "391it [01:11,  5.46it/s]\n"
          ]
        },
        {
          "name": "stdout",
          "output_type": "stream",
          "text": [
            "train Loss: 2.9365 Acc: 0.1999\n",
            "valid Loss: 2.0581 Acc: 0.4620\n",
            "Saving model...\n",
            "------------------------------\n",
            "\n",
            "Epoch 9/20\n",
            "----------\n"
          ]
        },
        {
          "name": "stderr",
          "output_type": "stream",
          "text": [
            "391it [01:11,  5.48it/s]\n"
          ]
        },
        {
          "name": "stdout",
          "output_type": "stream",
          "text": [
            "train Loss: 2.8679 Acc: 0.1801\n",
            "valid Loss: 1.8904 Acc: 0.4991\n",
            "Saving model...\n",
            "------------------------------\n",
            "\n",
            "Epoch 10/20\n",
            "----------\n"
          ]
        },
        {
          "name": "stderr",
          "output_type": "stream",
          "text": [
            "391it [01:12,  5.42it/s]\n"
          ]
        },
        {
          "name": "stdout",
          "output_type": "stream",
          "text": [
            "train Loss: 2.7741 Acc: 0.1836\n",
            "valid Loss: 1.7857 Acc: 0.5251\n",
            "Saving model...\n",
            "------------------------------\n",
            "\n",
            "Epoch 11/20\n",
            "----------\n"
          ]
        },
        {
          "name": "stderr",
          "output_type": "stream",
          "text": [
            "391it [01:11,  5.47it/s]\n"
          ]
        },
        {
          "name": "stdout",
          "output_type": "stream",
          "text": [
            "train Loss: 2.7628 Acc: 0.2093\n",
            "valid Loss: 1.6696 Acc: 0.5536\n",
            "Saving model...\n",
            "------------------------------\n",
            "\n",
            "Epoch 12/20\n",
            "----------\n"
          ]
        },
        {
          "name": "stderr",
          "output_type": "stream",
          "text": [
            "391it [01:11,  5.48it/s]\n"
          ]
        },
        {
          "name": "stdout",
          "output_type": "stream",
          "text": [
            "train Loss: 2.6994 Acc: 0.2180\n",
            "valid Loss: 1.6665 Acc: 0.5592\n",
            "Saving model...\n",
            "------------------------------\n",
            "\n",
            "Epoch 13/20\n",
            "----------\n"
          ]
        },
        {
          "name": "stderr",
          "output_type": "stream",
          "text": [
            "391it [01:12,  5.40it/s]\n"
          ]
        },
        {
          "name": "stdout",
          "output_type": "stream",
          "text": [
            "train Loss: 2.6088 Acc: 0.2302\n",
            "valid Loss: 1.6307 Acc: 0.5629\n",
            "Saving model...\n",
            "------------------------------\n",
            "\n",
            "Epoch 14/20\n",
            "----------\n"
          ]
        },
        {
          "name": "stderr",
          "output_type": "stream",
          "text": [
            "391it [01:11,  5.46it/s]\n"
          ]
        },
        {
          "name": "stdout",
          "output_type": "stream",
          "text": [
            "train Loss: 2.6018 Acc: 0.2380\n",
            "valid Loss: 1.5171 Acc: 0.5971\n",
            "Saving model...\n",
            "------------------------------\n",
            "\n",
            "Epoch 15/20\n",
            "----------\n"
          ]
        },
        {
          "name": "stderr",
          "output_type": "stream",
          "text": [
            "391it [01:11,  5.48it/s]\n"
          ]
        },
        {
          "name": "stdout",
          "output_type": "stream",
          "text": [
            "train Loss: 2.5368 Acc: 0.2310\n",
            "valid Loss: 1.5081 Acc: 0.6082\n",
            "Saving model...\n",
            "------------------------------\n",
            "\n",
            "Epoch 16/20\n",
            "----------\n"
          ]
        },
        {
          "name": "stderr",
          "output_type": "stream",
          "text": [
            "391it [01:12,  5.43it/s]\n"
          ]
        },
        {
          "name": "stdout",
          "output_type": "stream",
          "text": [
            "train Loss: 2.4971 Acc: 0.2600\n",
            "valid Loss: 1.4618 Acc: 0.6110\n",
            "Saving model...\n",
            "------------------------------\n",
            "\n",
            "Epoch 17/20\n",
            "----------\n"
          ]
        },
        {
          "name": "stderr",
          "output_type": "stream",
          "text": [
            "391it [01:11,  5.44it/s]\n"
          ]
        },
        {
          "name": "stdout",
          "output_type": "stream",
          "text": [
            "train Loss: 2.4236 Acc: 0.2613\n",
            "valid Loss: 1.4705 Acc: 0.6253\n",
            "Saving model...\n",
            "------------------------------\n",
            "\n",
            "Epoch 18/20\n",
            "----------\n"
          ]
        },
        {
          "name": "stderr",
          "output_type": "stream",
          "text": [
            "391it [01:11,  5.49it/s]\n"
          ]
        },
        {
          "name": "stdout",
          "output_type": "stream",
          "text": [
            "train Loss: 2.4463 Acc: 0.2597\n",
            "valid Loss: 1.4632 Acc: 0.6162\n",
            "------------------------------\n",
            "\n",
            "Epoch 19/20\n",
            "----------\n"
          ]
        },
        {
          "name": "stderr",
          "output_type": "stream",
          "text": [
            "391it [01:12,  5.40it/s]\n"
          ]
        },
        {
          "name": "stdout",
          "output_type": "stream",
          "text": [
            "train Loss: 2.3556 Acc: 0.2482\n",
            "valid Loss: 1.3236 Acc: 0.6384\n",
            "Saving model...\n",
            "------------------------------\n",
            "\n",
            "Epoch 20/20\n",
            "----------\n"
          ]
        },
        {
          "name": "stderr",
          "output_type": "stream",
          "text": [
            "391it [01:11,  5.47it/s]\n"
          ]
        },
        {
          "name": "stdout",
          "output_type": "stream",
          "text": [
            "train Loss: 2.3588 Acc: 0.2718\n",
            "valid Loss: 1.3645 Acc: 0.6429\n",
            "Saving model...\n",
            "------------------------------\n",
            "\n",
            "Best model saved.\n",
            "Training complete in 25m 43s\n",
            "Best val Acc: 0.642900\n"
          ]
        },
        {
          "data": {
            "text/html": [
              "Waiting for W&B process to finish... <strong style=\"color:green\">(success).</strong>"
            ],
            "text/plain": [
              "<IPython.core.display.HTML object>"
            ]
          },
          "metadata": {},
          "output_type": "display_data"
        },
        {
          "data": {
            "text/html": [
              "<style>\n",
              "    table.wandb td:nth-child(1) { padding: 0 10px; text-align: left ; width: auto;} td:nth-child(2) {text-align: left ; width: 100%}\n",
              "    .wandb-row { display: flex; flex-direction: row; flex-wrap: wrap; justify-content: flex-start; width: 100% }\n",
              "    .wandb-col { display: flex; flex-direction: column; flex-basis: 100%; flex: 1; padding: 10px; }\n",
              "    </style>\n",
              "<div class=\"wandb-row\"><div class=\"wandb-col\"><h3>Run history:</h3><br/><table class=\"wandb\"><tr><td>Train - acc</td><td>▁▂▃▃▄▄▅▆▅▅▆▆▇▇▇███▇█</td></tr><tr><td>Train - loss</td><td>█▇▇▇▇▅▇▅▆▅▆▅▃▃▄▅▅▅▅▄▅▅▁▅▅▅▅▃▅▃▃▃▃▄▃▁▃▃▄▁</td></tr><tr><td>Valid - acc</td><td>▁▂▃▄▄▅▅▆▆▆▇▇▇▇██████</td></tr><tr><td>Valid - loss</td><td>█▇▆▅▄▄▃▃▃▂▂▂▂▂▂▁▁▁▁▁</td></tr></table><br/></div><div class=\"wandb-col\"><h3>Run summary:</h3><br/><table class=\"wandb\"><tr><td>Train - acc</td><td>0.27182</td></tr><tr><td>Train - loss</td><td>1.41847</td></tr><tr><td>Valid - acc</td><td>0.6429</td></tr><tr><td>Valid - loss</td><td>1.36455</td></tr></table><br/></div></div>"
            ],
            "text/plain": [
              "<IPython.core.display.HTML object>"
            ]
          },
          "metadata": {},
          "output_type": "display_data"
        },
        {
          "data": {
            "text/html": [
              " View run <strong style=\"color:#cdcd00\">visionary-shadow-7</strong> at: <a href='https://wandb.ai/ddmaster/INF8225%20-%20Projet%20final/runs/pvm0gcyw' target=\"_blank\">https://wandb.ai/ddmaster/INF8225%20-%20Projet%20final/runs/pvm0gcyw</a><br/>Synced 5 W&B file(s), 0 media file(s), 2 artifact file(s) and 1 other file(s)"
            ],
            "text/plain": [
              "<IPython.core.display.HTML object>"
            ]
          },
          "metadata": {},
          "output_type": "display_data"
        },
        {
          "data": {
            "text/html": [
              "Find logs at: <code>./wandb/run-20230501_064638-pvm0gcyw/logs</code>"
            ],
            "text/plain": [
              "<IPython.core.display.HTML object>"
            ]
          },
          "metadata": {},
          "output_type": "display_data"
        }
      ],
      "source": [
        "config['dataset_name'] = 'CIFAR100'\n",
        "config['model_name'] =  'resnet'\n",
        "config['model_type'] = 'CutMix'\n",
        "model_ft, input_size = initialize_model('resnet', 'CIFAR100')\n",
        "optimizer = optim.SGD(model_ft.parameters(), lr=config['lr'], momentum=0.9, weight_decay = config['weight_decay'], nesterov = True)\n",
        "scheduler = CosineAnnealingLR(optimizer, T_max = 60, eta_min = 1e-6 )\n",
        "criterion = nn.CrossEntropyLoss()\n",
        "model_ft = model_ft.to(device)\n",
        "\n",
        "with wandb.init(config=config, project='Project', save_code=True, group='resnet18_cifar100_cutmix'):\n",
        "  model_ft, hist = train_model(\n",
        "      model_ft,\n",
        "      CIFAR100_trainset,\n",
        "      CIFAR100_testset,\n",
        "      criterion,\n",
        "      optimizer,\n",
        "      model_type=config['model_type'],\n",
        "      datasetname=config['dataset_name'],\n",
        "      num_epochs=config['epochs'],\n",
        "      scheduler=scheduler\n",
        "      )"
      ]
    },
    {
      "cell_type": "markdown",
      "metadata": {
        "id": "dl99AhByBNoM"
      },
      "source": [
        "# **AugMix**"
      ]
    },
    {
      "cell_type": "code",
      "execution_count": null,
      "metadata": {
        "id": "SdpeuzRdBDUS"
      },
      "outputs": [],
      "source": [
        "def int_parameter(level,maxval):\n",
        "  return int(level*maxval/10)\n",
        "\n",
        "def float_parameter(level,maxval):\n",
        "  return float(level)*maxval/10.\n",
        "\n",
        "def sample_level(n):\n",
        "  return np.random.uniform(low=0.1,high=n)\n",
        "\n",
        "def autocontrast(pil_img, _ , image_size):\n",
        "  return ImageOps.autocontrast(pil_img)\n",
        "\n",
        "def equalize(pil_img, _, image_size):\n",
        "  return ImageOps.equalize(pil_img)\n",
        "\n",
        "def posterize(pil_img, level, image_size):\n",
        "  return ImageOps.posterize(pil_img, 4 - int_parameter(sample_level(level), 4))\n",
        "\n",
        "def rotate(pil_img, level, image_size):\n",
        "  degrees = int_parameter(sample_level(level), 30)\n",
        "  if np.random.uniform() > 0.5:\n",
        "    degrees = -degrees\n",
        "  return pil_img.rotate(degrees, resample=Image.BILINEAR)\n",
        "\n",
        "def solarize(pil_img, level, image_size):\n",
        "  return ImageOps.solarize(pil_img, 256 - int_parameter(sample_level(level), 256))\n",
        "\n",
        "def shear_x(pil_img, level, image_size):\n",
        "  level = float_parameter(sample_level(level), 0.3)\n",
        "  if np.random.uniform() > 0.5:\n",
        "    level = -level\n",
        "  return pil_img.transform((image_size, image_size),Image.AFFINE, (1, level, 0, 0, 1, 0),resample=Image.BILINEAR)\n",
        "\n",
        "def shear_y(pil_img, level, image_size):\n",
        "  level = float_parameter(sample_level(level), 0.3)\n",
        "  if np.random.uniform() > 0.5:\n",
        "    level = -level\n",
        "  return pil_img.transform((image_size, image_size),Image.AFFINE, (1, 0, 0, level, 1, 0),resample=Image.BILINEAR)\n",
        "\n",
        "def translate_x(pil_img, level, image_size):\n",
        "  level = int_parameter(sample_level(level), image_size / 3)\n",
        "  if np.random.random() > 0.5:\n",
        "    level = -level\n",
        "  return pil_img.transform((image_size, image_size), Image.AFFINE, (1, 0, level, 0, 1, 0), resample=Image.BILINEAR)\n",
        "\n",
        "def translate_y(pil_img, level, image_size):\n",
        "  level = int_parameter(sample_level(level), image_size / 3)\n",
        "  if np.random.random() > 0.5:\n",
        "    level = -level\n",
        "  return pil_img.transform((image_size, image_size), Image.AFFINE, (1, 0, 0, 0, 1, level), resample=Image.BILINEAR)\n",
        "\n",
        "def color(pil_img, level, image_size):\n",
        "    level = float_parameter(sample_level(level), 1.8) + 0.1\n",
        "    return ImageEnhance.Color(pil_img).enhance(level)\n",
        "\n",
        "def contrast(pil_img, level, image_size):\n",
        "    level = float_parameter(sample_level(level), 1.8) + 0.1\n",
        "    return ImageEnhance.Contrast(pil_img).enhance(level)\n",
        "\n",
        "def brightness(pil_img, level, image_size):\n",
        "    level = float_parameter(sample_level(level), 1.8) + 0.1\n",
        "    return ImageEnhance.Brightness(pil_img).enhance(level)\n",
        "\n",
        "def sharpness(pil_img, level, image_size):\n",
        "    level = float_parameter(sample_level(level), 1.8) + 0.1\n",
        "    return ImageEnhance.Sharpness(pil_img).enhance(level)\n",
        "\n",
        "augmentations = [\n",
        "    autocontrast, equalize, posterize, rotate, solarize, shear_x, shear_y,\n",
        "    translate_x, translate_y\n",
        "]\n",
        "\n",
        "augmentations_all = [\n",
        "    autocontrast, equalize, posterize, rotate, solarize, shear_x, shear_y,\n",
        "    translate_x, translate_y, color, contrast, brightness, sharpness\n",
        "]\n",
        "\n",
        "def augmix(image, preprocess, dataset_name, mixture_width:int=3, aug_severity = 3, all_ops = True):\n",
        "  \n",
        "  if dataset_name == \"mnist\":\n",
        "    size = 28\n",
        "  else:\n",
        "    size = 32\n",
        "\n",
        "  aug_list = augmentations\n",
        "  if all_ops:\n",
        "    aug_list = augmentations_all\n",
        "  \n",
        "  ws = np.float32(np.random.dirichlet([1] * mixture_width))\n",
        "  m = np.float32(np.random.beta(1,1))\n",
        "\n",
        "  mix = torch.zeros_like(preprocess(image))\n",
        "\n",
        "  for i in range(mixture_width):\n",
        "    image_aug = image.copy()\n",
        "    depth = np.random.randint(1, 4)\n",
        "    for _ in range(depth):\n",
        "      op = np.random.choice(aug_list)\n",
        "      image_aug = op(image_aug, aug_severity, size)\n",
        "    mix += ws[i] * preprocess(image_aug)\n",
        "  \n",
        "  \n",
        "  mixed = (1-m) * preprocess(image) + m * mix\n",
        "\n",
        "  return mixed\n",
        "\n",
        "class AugMixDataset(torch.utils.data.Dataset):\n",
        "  def __init__(self,dataset,preprocess,dataset_name,all_ops=True,jsd_loss=False):\n",
        "    self.dataset = dataset\n",
        "    self.preprocess = preprocess\n",
        "    self.jsd_loss = jsd_loss\n",
        "    self.dataset_name = dataset_name\n",
        "    self.all_ops = all_ops\n",
        "  \n",
        "  def __getitem__(self, i):\n",
        "    x, y = self.dataset[i]\n",
        "    if self.jsd_loss:\n",
        "      im_tuple = (\n",
        "          self.preprocess(x), \n",
        "          augmix(x, self.preprocess, self.dataset_name, self.all_ops),\n",
        "          augmix(x, self.preprocess, self.dataset_name, self.all_ops),\n",
        "          )\n",
        "      return im_tuple,y\n",
        "    else:\n",
        "      return augmix(x, self.preprocess, self.dataset_name, self.all_ops), y\n",
        "  \n",
        "  def __len__(self):\n",
        "    return len(self.dataset)\n"
      ]
    },
    {
      "cell_type": "markdown",
      "metadata": {
        "id": "q6U6_GPRk0ir"
      },
      "source": [
        "# **Training ResNet-18 + AugMix on CIFAR-10 Dataset**"
      ]
    },
    {
      "cell_type": "code",
      "execution_count": null,
      "metadata": {
        "colab": {
          "base_uri": "https://localhost:8080/",
          "height": 1000
        },
        "id": "ATS3pLyEkZRU",
        "outputId": "974ceb58-ef8f-4cee-e5de-53c514b1564d"
      },
      "outputs": [
        {
          "data": {
            "text/html": [
              "Tracking run with wandb version 0.15.0"
            ],
            "text/plain": [
              "<IPython.core.display.HTML object>"
            ]
          },
          "metadata": {},
          "output_type": "display_data"
        },
        {
          "data": {
            "text/html": [
              "Run data is saved locally in <code>/content/wandb/run-20230501_071239-unsnonzh</code>"
            ],
            "text/plain": [
              "<IPython.core.display.HTML object>"
            ]
          },
          "metadata": {},
          "output_type": "display_data"
        },
        {
          "data": {
            "text/html": [
              "Syncing run <strong><a href='https://wandb.ai/ddmaster/INF8225%20-%20Projet%20final/runs/unsnonzh' target=\"_blank\">robust-waterfall-8</a></strong> to <a href='https://wandb.ai/ddmaster/INF8225%20-%20Projet%20final' target=\"_blank\">Weights & Biases</a> (<a href='https://wandb.me/run' target=\"_blank\">docs</a>)<br/>"
            ],
            "text/plain": [
              "<IPython.core.display.HTML object>"
            ]
          },
          "metadata": {},
          "output_type": "display_data"
        },
        {
          "data": {
            "text/html": [
              " View project at <a href='https://wandb.ai/ddmaster/INF8225%20-%20Projet%20final' target=\"_blank\">https://wandb.ai/ddmaster/INF8225%20-%20Projet%20final</a>"
            ],
            "text/plain": [
              "<IPython.core.display.HTML object>"
            ]
          },
          "metadata": {},
          "output_type": "display_data"
        },
        {
          "data": {
            "text/html": [
              " View run at <a href='https://wandb.ai/ddmaster/INF8225%20-%20Projet%20final/runs/unsnonzh' target=\"_blank\">https://wandb.ai/ddmaster/INF8225%20-%20Projet%20final/runs/unsnonzh</a>"
            ],
            "text/plain": [
              "<IPython.core.display.HTML object>"
            ]
          },
          "metadata": {},
          "output_type": "display_data"
        },
        {
          "name": "stdout",
          "output_type": "stream",
          "text": [
            "DAmethod -  AugMix\n",
            "Epoch 1/20\n",
            "----------\n"
          ]
        },
        {
          "name": "stderr",
          "output_type": "stream",
          "text": [
            "391it [01:09,  5.61it/s]\n"
          ]
        },
        {
          "name": "stdout",
          "output_type": "stream",
          "text": [
            "train Loss: 1.9922 Acc: 0.3119\n",
            "valid Loss: 1.5976 Acc: 0.4167\n",
            "Saving model...\n",
            "------------------------------\n",
            "\n",
            "Epoch 2/20\n",
            "----------\n"
          ]
        },
        {
          "name": "stderr",
          "output_type": "stream",
          "text": [
            "391it [01:08,  5.68it/s]\n"
          ]
        },
        {
          "name": "stdout",
          "output_type": "stream",
          "text": [
            "train Loss: 1.3712 Acc: 0.4996\n",
            "valid Loss: 1.2276 Acc: 0.5600\n",
            "Saving model...\n",
            "------------------------------\n",
            "\n",
            "Epoch 3/20\n",
            "----------\n"
          ]
        },
        {
          "name": "stderr",
          "output_type": "stream",
          "text": [
            "391it [01:09,  5.64it/s]\n"
          ]
        },
        {
          "name": "stdout",
          "output_type": "stream",
          "text": [
            "train Loss: 1.0794 Acc: 0.6147\n",
            "valid Loss: 0.9912 Acc: 0.6494\n",
            "Saving model...\n",
            "------------------------------\n",
            "\n",
            "Epoch 4/20\n",
            "----------\n"
          ]
        },
        {
          "name": "stderr",
          "output_type": "stream",
          "text": [
            "391it [01:09,  5.60it/s]\n"
          ]
        },
        {
          "name": "stdout",
          "output_type": "stream",
          "text": [
            "train Loss: 0.9077 Acc: 0.6800\n",
            "valid Loss: 0.8823 Acc: 0.6908\n",
            "Saving model...\n",
            "------------------------------\n",
            "\n",
            "Epoch 5/20\n",
            "----------\n"
          ]
        },
        {
          "name": "stderr",
          "output_type": "stream",
          "text": [
            "391it [01:09,  5.65it/s]\n"
          ]
        },
        {
          "name": "stdout",
          "output_type": "stream",
          "text": [
            "train Loss: 0.7818 Acc: 0.7261\n",
            "valid Loss: 0.7882 Acc: 0.7325\n",
            "Saving model...\n",
            "------------------------------\n",
            "\n",
            "Epoch 6/20\n",
            "----------\n"
          ]
        },
        {
          "name": "stderr",
          "output_type": "stream",
          "text": [
            "391it [01:08,  5.68it/s]\n"
          ]
        },
        {
          "name": "stdout",
          "output_type": "stream",
          "text": [
            "train Loss: 0.6756 Acc: 0.7640\n",
            "valid Loss: 0.6528 Acc: 0.7708\n",
            "Saving model...\n",
            "------------------------------\n",
            "\n",
            "Epoch 7/20\n",
            "----------\n"
          ]
        },
        {
          "name": "stderr",
          "output_type": "stream",
          "text": [
            "391it [01:10,  5.58it/s]\n"
          ]
        },
        {
          "name": "stdout",
          "output_type": "stream",
          "text": [
            "train Loss: 0.6015 Acc: 0.7918\n",
            "valid Loss: 0.7006 Acc: 0.7664\n",
            "------------------------------\n",
            "\n",
            "Epoch 8/20\n",
            "----------\n"
          ]
        },
        {
          "name": "stderr",
          "output_type": "stream",
          "text": [
            "391it [01:09,  5.67it/s]\n"
          ]
        },
        {
          "name": "stdout",
          "output_type": "stream",
          "text": [
            "train Loss: 0.5428 Acc: 0.8130\n",
            "valid Loss: 0.5639 Acc: 0.8086\n",
            "Saving model...\n",
            "------------------------------\n",
            "\n",
            "Epoch 9/20\n",
            "----------\n"
          ]
        },
        {
          "name": "stderr",
          "output_type": "stream",
          "text": [
            "391it [01:08,  5.68it/s]\n"
          ]
        },
        {
          "name": "stdout",
          "output_type": "stream",
          "text": [
            "train Loss: 0.4914 Acc: 0.8313\n",
            "valid Loss: 0.5711 Acc: 0.8030\n",
            "------------------------------\n",
            "\n",
            "Epoch 10/20\n",
            "----------\n"
          ]
        },
        {
          "name": "stderr",
          "output_type": "stream",
          "text": [
            "391it [01:09,  5.66it/s]\n"
          ]
        },
        {
          "name": "stdout",
          "output_type": "stream",
          "text": [
            "train Loss: 0.4506 Acc: 0.8434\n",
            "valid Loss: 0.6070 Acc: 0.7958\n",
            "------------------------------\n",
            "\n",
            "Epoch 11/20\n",
            "----------\n"
          ]
        },
        {
          "name": "stderr",
          "output_type": "stream",
          "text": [
            "391it [01:08,  5.69it/s]\n"
          ]
        },
        {
          "name": "stdout",
          "output_type": "stream",
          "text": [
            "train Loss: 0.4124 Acc: 0.8583\n",
            "valid Loss: 0.4915 Acc: 0.8389\n",
            "Saving model...\n",
            "------------------------------\n",
            "\n",
            "Epoch 12/20\n",
            "----------\n"
          ]
        },
        {
          "name": "stderr",
          "output_type": "stream",
          "text": [
            "391it [01:08,  5.71it/s]\n"
          ]
        },
        {
          "name": "stdout",
          "output_type": "stream",
          "text": [
            "train Loss: 0.3835 Acc: 0.8656\n",
            "valid Loss: 0.5465 Acc: 0.8163\n",
            "------------------------------\n",
            "\n",
            "Epoch 13/20\n",
            "----------\n"
          ]
        },
        {
          "name": "stderr",
          "output_type": "stream",
          "text": [
            "391it [01:09,  5.62it/s]\n"
          ]
        },
        {
          "name": "stdout",
          "output_type": "stream",
          "text": [
            "train Loss: 0.3557 Acc: 0.8767\n",
            "valid Loss: 0.5145 Acc: 0.8327\n",
            "------------------------------\n",
            "\n",
            "Epoch 14/20\n",
            "----------\n"
          ]
        },
        {
          "name": "stderr",
          "output_type": "stream",
          "text": [
            "391it [01:08,  5.67it/s]\n"
          ]
        },
        {
          "name": "stdout",
          "output_type": "stream",
          "text": [
            "train Loss: 0.3276 Acc: 0.8880\n",
            "valid Loss: 0.4782 Acc: 0.8376\n",
            "------------------------------\n",
            "\n",
            "Epoch 15/20\n",
            "----------\n"
          ]
        },
        {
          "name": "stderr",
          "output_type": "stream",
          "text": [
            "391it [01:08,  5.67it/s]\n"
          ]
        },
        {
          "name": "stdout",
          "output_type": "stream",
          "text": [
            "train Loss: 0.3041 Acc: 0.8955\n",
            "valid Loss: 0.4398 Acc: 0.8549\n",
            "Saving model...\n",
            "------------------------------\n",
            "\n",
            "Epoch 16/20\n",
            "----------\n"
          ]
        },
        {
          "name": "stderr",
          "output_type": "stream",
          "text": [
            "391it [01:09,  5.60it/s]\n"
          ]
        },
        {
          "name": "stdout",
          "output_type": "stream",
          "text": [
            "train Loss: 0.2861 Acc: 0.9013\n",
            "valid Loss: 0.4143 Acc: 0.8631\n",
            "Saving model...\n",
            "------------------------------\n",
            "\n",
            "Epoch 17/20\n",
            "----------\n"
          ]
        },
        {
          "name": "stderr",
          "output_type": "stream",
          "text": [
            "391it [01:08,  5.67it/s]\n"
          ]
        },
        {
          "name": "stdout",
          "output_type": "stream",
          "text": [
            "train Loss: 0.2716 Acc: 0.9054\n",
            "valid Loss: 0.3903 Acc: 0.8724\n",
            "Saving model...\n",
            "------------------------------\n",
            "\n",
            "Epoch 18/20\n",
            "----------\n"
          ]
        },
        {
          "name": "stderr",
          "output_type": "stream",
          "text": [
            "391it [01:08,  5.67it/s]\n"
          ]
        },
        {
          "name": "stdout",
          "output_type": "stream",
          "text": [
            "train Loss: 0.2484 Acc: 0.9147\n",
            "valid Loss: 0.4104 Acc: 0.8671\n",
            "------------------------------\n",
            "\n",
            "Epoch 19/20\n",
            "----------\n"
          ]
        },
        {
          "name": "stderr",
          "output_type": "stream",
          "text": [
            "391it [01:09,  5.61it/s]\n"
          ]
        },
        {
          "name": "stdout",
          "output_type": "stream",
          "text": [
            "train Loss: 0.2394 Acc: 0.9170\n",
            "valid Loss: 0.3792 Acc: 0.8767\n",
            "Saving model...\n",
            "------------------------------\n",
            "\n",
            "Epoch 20/20\n",
            "----------\n"
          ]
        },
        {
          "name": "stderr",
          "output_type": "stream",
          "text": [
            "391it [01:08,  5.68it/s]\n"
          ]
        },
        {
          "name": "stdout",
          "output_type": "stream",
          "text": [
            "train Loss: 0.2205 Acc: 0.9226\n",
            "valid Loss: 0.3759 Acc: 0.8800\n",
            "Saving model...\n",
            "------------------------------\n",
            "\n",
            "Best model saved.\n",
            "Training complete in 24m 50s\n",
            "Best val Acc: 0.880000\n"
          ]
        },
        {
          "data": {
            "text/html": [
              "Waiting for W&B process to finish... <strong style=\"color:green\">(success).</strong>"
            ],
            "text/plain": [
              "<IPython.core.display.HTML object>"
            ]
          },
          "metadata": {},
          "output_type": "display_data"
        },
        {
          "data": {
            "text/html": [
              "<style>\n",
              "    table.wandb td:nth-child(1) { padding: 0 10px; text-align: left ; width: auto;} td:nth-child(2) {text-align: left ; width: 100%}\n",
              "    .wandb-row { display: flex; flex-direction: row; flex-wrap: wrap; justify-content: flex-start; width: 100% }\n",
              "    .wandb-col { display: flex; flex-direction: column; flex-basis: 100%; flex: 1; padding: 10px; }\n",
              "    </style>\n",
              "<div class=\"wandb-row\"><div class=\"wandb-col\"><h3>Run history:</h3><br/><table class=\"wandb\"><tr><td>Train - acc</td><td>▁▃▄▅▆▆▇▇▇▇▇▇▇███████</td></tr><tr><td>Train - loss</td><td>█▆▆▆▅▄▄▃▃▃▃▃▂▃▂▂▂▂▂▂▁▂▁▂▁▂▁▁▁▁▁▂▁▂▁▁▁▁▁▁</td></tr><tr><td>Valid - acc</td><td>▁▃▅▅▆▆▆▇▇▇▇▇▇▇██████</td></tr><tr><td>Valid - loss</td><td>█▆▅▄▃▃▃▂▂▂▂▂▂▂▁▁▁▁▁▁</td></tr></table><br/></div><div class=\"wandb-col\"><h3>Run summary:</h3><br/><table class=\"wandb\"><tr><td>Train - acc</td><td>0.9226</td></tr><tr><td>Train - loss</td><td>0.25736</td></tr><tr><td>Valid - acc</td><td>0.88</td></tr><tr><td>Valid - loss</td><td>0.37591</td></tr></table><br/></div></div>"
            ],
            "text/plain": [
              "<IPython.core.display.HTML object>"
            ]
          },
          "metadata": {},
          "output_type": "display_data"
        },
        {
          "data": {
            "text/html": [
              " View run <strong style=\"color:#cdcd00\">robust-waterfall-8</strong> at: <a href='https://wandb.ai/ddmaster/INF8225%20-%20Projet%20final/runs/unsnonzh' target=\"_blank\">https://wandb.ai/ddmaster/INF8225%20-%20Projet%20final/runs/unsnonzh</a><br/>Synced 5 W&B file(s), 0 media file(s), 2 artifact file(s) and 1 other file(s)"
            ],
            "text/plain": [
              "<IPython.core.display.HTML object>"
            ]
          },
          "metadata": {},
          "output_type": "display_data"
        },
        {
          "data": {
            "text/html": [
              "Find logs at: <code>./wandb/run-20230501_071239-unsnonzh/logs</code>"
            ],
            "text/plain": [
              "<IPython.core.display.HTML object>"
            ]
          },
          "metadata": {},
          "output_type": "display_data"
        }
      ],
      "source": [
        "config['dataset_name'] = 'CIFAR10'\n",
        "config['model_name'] =  'resnet'\n",
        "config['model_type'] = 'AugMix'\n",
        "model_ft, input_size = initialize_model('resnet', 'CIFAR10')\n",
        "optimizer = optim.SGD(model_ft.parameters(), lr=config['lr'], momentum=0.9, weight_decay = config['weight_decay'], nesterov = True)\n",
        "scheduler = CosineAnnealingLR(optimizer, T_max = 60, eta_min = 1e-6 )\n",
        "criterion = nn.CrossEntropyLoss()\n",
        "model_ft = model_ft.to(device)\n",
        "\n",
        "with wandb.init(config=config, project='Project', save_code=True, group='resnet18_cifar10_augmix'):\n",
        "  model_ft, hist = train_model(\n",
        "      model_ft,\n",
        "      CIFAR10_trainset,\n",
        "      CIFAR10_testset,\n",
        "      criterion,\n",
        "      optimizer,\n",
        "      model_type=config['model_type'],\n",
        "      datasetname=config['dataset_name'],\n",
        "      num_epochs=config['epochs'],\n",
        "      scheduler=scheduler\n",
        "      )\n"
      ]
    },
    {
      "cell_type": "markdown",
      "metadata": {
        "id": "5quXoIIUk8TC"
      },
      "source": [
        "# **Training ResNet-18 + AugMix on CIFAR-100 Dataset**"
      ]
    },
    {
      "cell_type": "code",
      "execution_count": null,
      "metadata": {
        "id": "zHKl73Czkwbw"
      },
      "outputs": [],
      "source": [
        "config['dataset_name'] = 'CIFAR100'\n",
        "config['model_name'] =  'resnet'\n",
        "config['model_type'] = 'AugMix'\n",
        "model_ft, input_size = initialize_model(config['model_name'], config['dataset_name'] )\n",
        "optimizer = optim.SGD(model_ft.parameters(), lr=config['lr'], momentum=0.9, weight_decay = config['weight_decay'], nesterov = True)\n",
        "scheduler = CosineAnnealingLR(optimizer, T_max = 60, eta_min = 1e-6)\n",
        "criterion = nn.CrossEntropyLoss()\n",
        "model_ft = model_ft.to(device)\n",
        "\n",
        "with wandb.init(config=config, project='Project', save_code=True, group='resnet18_cifar100_augmix'):\n",
        "  model_ft, hist = train_model(\n",
        "      model_ft,\n",
        "      CIFAR100_trainset,\n",
        "      CIFAR100_testset,\n",
        "      criterion,\n",
        "      optimizer,\n",
        "      model_type=config['model_type'],\n",
        "      datasetname=config['dataset_name'],\n",
        "      num_epochs=config['epochs'],\n",
        "      scheduler=scheduler\n",
        "      )"
      ]
    }
  ],
  "metadata": {
    "accelerator": "GPU",
    "colab": {
      "provenance": [],
      "toc_visible": true
    },
    "kernelspec": {
      "display_name": "Python 3",
      "language": "python",
      "name": "python3"
    },
    "language_info": {
      "codemirror_mode": {
        "name": "ipython",
        "version": 3
      },
      "file_extension": ".py",
      "mimetype": "text/x-python",
      "name": "python",
      "nbconvert_exporter": "python",
      "pygments_lexer": "ipython3",
      "version": "3.8.5"
    }
  },
  "nbformat": 4,
  "nbformat_minor": 0
}
